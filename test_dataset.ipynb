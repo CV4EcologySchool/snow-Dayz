{
 "cells": [
  {
   "cell_type": "code",
   "execution_count": 15,
   "metadata": {},
   "outputs": [
    {
     "ename": "ModuleNotFoundError",
     "evalue": "No module named 'yaml'",
     "output_type": "error",
     "traceback": [
      "\u001b[0;31m---------------------------------------------------------------------------\u001b[0m",
      "\u001b[0;31mModuleNotFoundError\u001b[0m                       Traceback (most recent call last)",
      "\u001b[1;32m/Users/cmbreen/code/snow-Dayz/classifier/test_dataset.ipynb Cell 1\u001b[0m in \u001b[0;36m<cell line: 4>\u001b[0;34m()\u001b[0m\n\u001b[1;32m      <a href='vscode-notebook-cell:/Users/cmbreen/code/snow-Dayz/classifier/test_dataset.ipynb#ch0000000?line=1'>2</a>\u001b[0m \u001b[39mimport\u001b[39;00m \u001b[39mos\u001b[39;00m\n\u001b[1;32m      <a href='vscode-notebook-cell:/Users/cmbreen/code/snow-Dayz/classifier/test_dataset.ipynb#ch0000000?line=2'>3</a>\u001b[0m \u001b[39mimport\u001b[39;00m \u001b[39margparse\u001b[39;00m\n\u001b[0;32m----> <a href='vscode-notebook-cell:/Users/cmbreen/code/snow-Dayz/classifier/test_dataset.ipynb#ch0000000?line=3'>4</a>\u001b[0m \u001b[39mimport\u001b[39;00m \u001b[39myaml\u001b[39;00m\n\u001b[1;32m      <a href='vscode-notebook-cell:/Users/cmbreen/code/snow-Dayz/classifier/test_dataset.ipynb#ch0000000?line=4'>5</a>\u001b[0m \u001b[39mimport\u001b[39;00m \u001b[39mglob\u001b[39;00m\n\u001b[1;32m      <a href='vscode-notebook-cell:/Users/cmbreen/code/snow-Dayz/classifier/test_dataset.ipynb#ch0000000?line=5'>6</a>\u001b[0m \u001b[39mfrom\u001b[39;00m \u001b[39mtqdm\u001b[39;00m \u001b[39mimport\u001b[39;00m trange\n",
      "\u001b[0;31mModuleNotFoundError\u001b[0m: No module named 'yaml'"
     ]
    }
   ],
   "source": [
    "from dataset import CTDataset \n",
    "import os\n",
    "import argparse\n",
    "import yaml\n",
    "import glob\n",
    "from tqdm import trange"
   ]
  },
  {
   "cell_type": "code",
   "execution_count": 18,
   "metadata": {},
   "outputs": [
    {
     "name": "stderr",
     "output_type": "stream",
     "text": [
      "usage: ipykernel_launcher.py [-h] [--config CONFIG]\n",
      "ipykernel_launcher.py: error: unrecognized arguments: --ip=127.0.0.1 --stdin=9059 --control=9057 --hb=9056 --Session.signature_scheme=\"hmac-sha256\" --Session.key=b\"ba9d9ce2-c9a7-4e7f-8956-2cb4978304b2\" --shell=9058 --transport=\"tcp\" --iopub=9060 --f=/Users/cmbreen/Library/Jupyter/runtime/kernel-v2-2935hDW0FO4Ku78T.json\n"
     ]
    },
    {
     "ename": "SystemExit",
     "evalue": "2",
     "output_type": "error",
     "traceback": [
      "An exception has occurred, use %tb to see the full traceback.\n",
      "\u001b[0;31mSystemExit\u001b[0m\u001b[0;31m:\u001b[0m 2\n"
     ]
    },
    {
     "name": "stderr",
     "output_type": "stream",
     "text": [
      "/Users/cmbreen/opt/anaconda3/envs/cv4e/lib/python3.8/site-packages/IPython/core/interactiveshell.py:3406: UserWarning: To exit: use 'exit', 'quit', or Ctrl-D.\n",
      "  warn(\"To exit: use 'exit', 'quit', or Ctrl-D.\", stacklevel=1)\n"
     ]
    }
   ],
   "source": [
    "parser = argparse.ArgumentParser(description='Train deep learning model.')\n",
    "parser.add_argument('--config', help='Path to config file', default='configs/exp_resnet50_2classes.yaml')\n",
    "args = parser.parse_args()\n",
    "\n",
    "#/home/azureuser/snow-Dayz/classifier/configs/exp_resnet50_2classes.yaml\n",
    "\n",
    "    # load config\n",
    "print(f'Using config \"{args.config}\"')\n",
    "cfg = yaml.safe_load(open(args.config, 'r'))\n"
   ]
  },
  {
   "cell_type": "code",
   "execution_count": 17,
   "metadata": {},
   "outputs": [
    {
     "ename": "NameError",
     "evalue": "name 'labels' is not defined",
     "output_type": "error",
     "traceback": [
      "\u001b[0;31m---------------------------------------------------------------------------\u001b[0m",
      "\u001b[0;31mNameError\u001b[0m                                 Traceback (most recent call last)",
      "\u001b[1;32m/Users/cmbreen/code/snow-Dayz/classifier/test_dataset.ipynb Cell 3\u001b[0m in \u001b[0;36m<cell line: 1>\u001b[0;34m()\u001b[0m\n\u001b[0;32m----> <a href='vscode-notebook-cell:/Users/cmbreen/code/snow-Dayz/classifier/test_dataset.ipynb#ch0000002?line=0'>1</a>\u001b[0m dataset_instance \u001b[39m=\u001b[39m CTDataset(labels, cfg, folder, split)\n\u001b[1;32m      <a href='vscode-notebook-cell:/Users/cmbreen/code/snow-Dayz/classifier/test_dataset.ipynb#ch0000002?line=2'>3</a>\u001b[0m dataLoader \u001b[39m=\u001b[39m DataLoader(\n\u001b[1;32m      <a href='vscode-notebook-cell:/Users/cmbreen/code/snow-Dayz/classifier/test_dataset.ipynb#ch0000002?line=3'>4</a>\u001b[0m         dataset\u001b[39m=\u001b[39mdataset_instance,\n\u001b[1;32m      <a href='vscode-notebook-cell:/Users/cmbreen/code/snow-Dayz/classifier/test_dataset.ipynb#ch0000002?line=4'>5</a>\u001b[0m         batch_size\u001b[39m=\u001b[39mcfg[\u001b[39m'\u001b[39m\u001b[39mbatch_size\u001b[39m\u001b[39m'\u001b[39m],\n\u001b[1;32m      <a href='vscode-notebook-cell:/Users/cmbreen/code/snow-Dayz/classifier/test_dataset.ipynb#ch0000002?line=5'>6</a>\u001b[0m         shuffle\u001b[39m=\u001b[39m\u001b[39mTrue\u001b[39;00m,\n\u001b[1;32m      <a href='vscode-notebook-cell:/Users/cmbreen/code/snow-Dayz/classifier/test_dataset.ipynb#ch0000002?line=6'>7</a>\u001b[0m         num_workers\u001b[39m=\u001b[39mcfg[\u001b[39m'\u001b[39m\u001b[39mnum_workers\u001b[39m\u001b[39m'\u001b[39m])\n\u001b[1;32m      <a href='vscode-notebook-cell:/Users/cmbreen/code/snow-Dayz/classifier/test_dataset.ipynb#ch0000002?line=7'>8</a>\u001b[0m \u001b[39mreturn\u001b[39;00m dataLoader\n",
      "\u001b[0;31mNameError\u001b[0m: name 'labels' is not defined"
     ]
    }
   ],
   "source": [
    "    dataset_instance = CTDataset(labels, cfg, folder, split)\n",
    "\n",
    "    dataLoader = DataLoader(\n",
    "            dataset=dataset_instance,\n",
    "            batch_size=cfg['batch_size'],\n",
    "            shuffle=True,\n",
    "            num_workers=cfg['num_workers'])\n",
    "    return dataLoader"
   ]
  },
  {
   "cell_type": "code",
   "execution_count": null,
   "metadata": {},
   "outputs": [],
   "source": []
  }
 ],
 "metadata": {
  "kernelspec": {
   "display_name": "Python 3.8.13",
   "language": "python",
   "name": "python3"
  },
  "language_info": {
   "codemirror_mode": {
    "name": "ipython",
    "version": 3
   },
   "file_extension": ".py",
   "mimetype": "text/x-python",
   "name": "python",
   "nbconvert_exporter": "python",
   "pygments_lexer": "ipython3",
   "version": "3.8.13"
  },
  "orig_nbformat": 4,
  "vscode": {
   "interpreter": {
    "hash": "a61ff342c82320e16bfc3ec00598c30076a67172fe0ba42bf7d90ff352a912bd"
   }
  }
 },
 "nbformat": 4,
 "nbformat_minor": 2
}
