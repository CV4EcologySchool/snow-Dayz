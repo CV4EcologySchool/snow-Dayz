{
 "cells": [
  {
   "cell_type": "markdown",
   "metadata": {},
   "source": [
    "## Visualize Results\n"
   ]
  },
  {
   "cell_type": "code",
   "execution_count": 2,
   "metadata": {},
   "outputs": [],
   "source": [
    "import pandas as pd\n",
    "import matplotlib.pyplot as plt\n",
    "import numpy as np"
   ]
  },
  {
   "cell_type": "markdown",
   "metadata": {},
   "source": [
    "## load result csvs for the best experiments"
   ]
  },
  {
   "cell_type": "code",
   "execution_count": 6,
   "metadata": {},
   "outputs": [
    {
     "data": {
      "text/html": [
       "<div>\n",
       "<style scoped>\n",
       "    .dataframe tbody tr th:only-of-type {\n",
       "        vertical-align: middle;\n",
       "    }\n",
       "\n",
       "    .dataframe tbody tr th {\n",
       "        vertical-align: top;\n",
       "    }\n",
       "\n",
       "    .dataframe thead th {\n",
       "        text-align: right;\n",
       "    }\n",
       "</style>\n",
       "<table border=\"1\" class=\"dataframe\">\n",
       "  <thead>\n",
       "    <tr style=\"text-align: right;\">\n",
       "      <th></th>\n",
       "      <th>Unnamed: 0</th>\n",
       "      <th>filenames</th>\n",
       "      <th>trueLabels</th>\n",
       "      <th>predictedLabels</th>\n",
       "      <th>confidences</th>\n",
       "    </tr>\n",
       "  </thead>\n",
       "  <tbody>\n",
       "    <tr>\n",
       "      <th>0</th>\n",
       "      <td>0</td>\n",
       "      <td>['Wyn_Camera3_WSCT0445.JPG', 'Wyn_Camera3_WSCT...</td>\n",
       "      <td>2</td>\n",
       "      <td>2</td>\n",
       "      <td>0.223425</td>\n",
       "    </tr>\n",
       "    <tr>\n",
       "      <th>1</th>\n",
       "      <td>1</td>\n",
       "      <td>['Wyn_Camera2_WSCT2058.JPG', 'Wyn_Camera2_WSCT...</td>\n",
       "      <td>2</td>\n",
       "      <td>2</td>\n",
       "      <td>0.087303</td>\n",
       "    </tr>\n",
       "    <tr>\n",
       "      <th>2</th>\n",
       "      <td>2</td>\n",
       "      <td>['Wyn_Camera2_WSCT2997.JPG', 'Wyn_Camera2_WSCT...</td>\n",
       "      <td>2</td>\n",
       "      <td>2</td>\n",
       "      <td>0.143810</td>\n",
       "    </tr>\n",
       "    <tr>\n",
       "      <th>3</th>\n",
       "      <td>3</td>\n",
       "      <td>['Wyn_Camera2_WSCT2049.JPG', 'Wyn_Camera2_WSCT...</td>\n",
       "      <td>2</td>\n",
       "      <td>2</td>\n",
       "      <td>0.092960</td>\n",
       "    </tr>\n",
       "    <tr>\n",
       "      <th>4</th>\n",
       "      <td>4</td>\n",
       "      <td>['Wyn_Camera3_WSCT0843.JPG', 'Wyn_Camera3_WSCT...</td>\n",
       "      <td>2</td>\n",
       "      <td>2</td>\n",
       "      <td>0.421762</td>\n",
       "    </tr>\n",
       "  </tbody>\n",
       "</table>\n",
       "</div>"
      ],
      "text/plain": [
       "   Unnamed: 0                                          filenames  trueLabels  \\\n",
       "0           0  ['Wyn_Camera3_WSCT0445.JPG', 'Wyn_Camera3_WSCT...           2   \n",
       "1           1  ['Wyn_Camera2_WSCT2058.JPG', 'Wyn_Camera2_WSCT...           2   \n",
       "2           2  ['Wyn_Camera2_WSCT2997.JPG', 'Wyn_Camera2_WSCT...           2   \n",
       "3           3  ['Wyn_Camera2_WSCT2049.JPG', 'Wyn_Camera2_WSCT...           2   \n",
       "4           4  ['Wyn_Camera3_WSCT0843.JPG', 'Wyn_Camera3_WSCT...           2   \n",
       "\n",
       "   predictedLabels  confidences  \n",
       "0                2     0.223425  \n",
       "1                2     0.087303  \n",
       "2                2     0.143810  \n",
       "3                2     0.092960  \n",
       "4                2     0.421762  "
      ]
     },
     "execution_count": 6,
     "metadata": {},
     "output_type": "execute_result"
    }
   ],
   "source": [
    "results = pd.read_csv('/Users/cmbreen/Documents/Chapter 1/CV4EcologyData/results/exp_resnet50_3classes_seqSliding/figs/results.csv')\n",
    "results.head()"
   ]
  },
  {
   "cell_type": "markdown",
   "metadata": {},
   "source": [
    "## Find places that they don't match\n",
    "\n",
    "We will do this by indices"
   ]
  },
  {
   "cell_type": "code",
   "execution_count": 17,
   "metadata": {},
   "outputs": [],
   "source": [
    "### remove matches \n",
    "indices = []\n",
    "for idx, trueLabel in enumerate(results['trueLabels']):\n",
    "    if trueLabel == results['predictedLabels'][idx]: indices.append(idx)\n",
    "\n",
    "#results[results['confidences'] > 0.90]\n"
   ]
  },
  {
   "cell_type": "code",
   "execution_count": 20,
   "metadata": {},
   "outputs": [],
   "source": [
    "mismatch = results.drop(indices)"
   ]
  },
  {
   "cell_type": "code",
   "execution_count": 21,
   "metadata": {},
   "outputs": [
    {
     "data": {
      "text/html": [
       "<div>\n",
       "<style scoped>\n",
       "    .dataframe tbody tr th:only-of-type {\n",
       "        vertical-align: middle;\n",
       "    }\n",
       "\n",
       "    .dataframe tbody tr th {\n",
       "        vertical-align: top;\n",
       "    }\n",
       "\n",
       "    .dataframe thead th {\n",
       "        text-align: right;\n",
       "    }\n",
       "</style>\n",
       "<table border=\"1\" class=\"dataframe\">\n",
       "  <thead>\n",
       "    <tr style=\"text-align: right;\">\n",
       "      <th></th>\n",
       "      <th>Unnamed: 0</th>\n",
       "      <th>filenames</th>\n",
       "      <th>trueLabels</th>\n",
       "      <th>predictedLabels</th>\n",
       "      <th>confidences</th>\n",
       "    </tr>\n",
       "  </thead>\n",
       "  <tbody>\n",
       "    <tr>\n",
       "      <th>67</th>\n",
       "      <td>67</td>\n",
       "      <td>['Wyn_Camera3_WSCT0235.JPG', 'Wyn_Camera3_WSCT...</td>\n",
       "      <td>2</td>\n",
       "      <td>1</td>\n",
       "      <td>0.801425</td>\n",
       "    </tr>\n",
       "    <tr>\n",
       "      <th>108</th>\n",
       "      <td>108</td>\n",
       "      <td>['Wyn_Camera2_WSCT3258.JPG', 'Wyn_Camera2_WSCT...</td>\n",
       "      <td>2</td>\n",
       "      <td>1</td>\n",
       "      <td>0.826421</td>\n",
       "    </tr>\n",
       "    <tr>\n",
       "      <th>922</th>\n",
       "      <td>922</td>\n",
       "      <td>['Wyn_Camera3_WSCT0080.JPG', 'Wyn_Camera3_WSCT...</td>\n",
       "      <td>0</td>\n",
       "      <td>1</td>\n",
       "      <td>0.827526</td>\n",
       "    </tr>\n",
       "    <tr>\n",
       "      <th>1309</th>\n",
       "      <td>1309</td>\n",
       "      <td>['Wyn_Camera2_WSCT4745.JPG', 'Wyn_Camera2_WSCT...</td>\n",
       "      <td>0</td>\n",
       "      <td>1</td>\n",
       "      <td>0.866113</td>\n",
       "    </tr>\n",
       "    <tr>\n",
       "      <th>1502</th>\n",
       "      <td>1502</td>\n",
       "      <td>['Wyn_Camera2_WSCT5916.JPG', 'Wyn_Camera2_WSCT...</td>\n",
       "      <td>0</td>\n",
       "      <td>1</td>\n",
       "      <td>0.983106</td>\n",
       "    </tr>\n",
       "    <tr>\n",
       "      <th>1939</th>\n",
       "      <td>1939</td>\n",
       "      <td>['Wyn_Camera2_WSCT0281.JPG', 'Wyn_Camera2_WSCT...</td>\n",
       "      <td>0</td>\n",
       "      <td>1</td>\n",
       "      <td>0.904960</td>\n",
       "    </tr>\n",
       "    <tr>\n",
       "      <th>1986</th>\n",
       "      <td>1986</td>\n",
       "      <td>['Wyn_Camera2_WSCT0729.JPG', 'Wyn_Camera2_WSCT...</td>\n",
       "      <td>0</td>\n",
       "      <td>1</td>\n",
       "      <td>0.990627</td>\n",
       "    </tr>\n",
       "    <tr>\n",
       "      <th>2036</th>\n",
       "      <td>2036</td>\n",
       "      <td>['Wyn_Camera2_WSCT4727.JPG', 'Wyn_Camera2_WSCT...</td>\n",
       "      <td>0</td>\n",
       "      <td>1</td>\n",
       "      <td>0.954166</td>\n",
       "    </tr>\n",
       "    <tr>\n",
       "      <th>2406</th>\n",
       "      <td>2406</td>\n",
       "      <td>['2015_01_29_09_00_00.jpg', '2015_01_29_08_00_...</td>\n",
       "      <td>0</td>\n",
       "      <td>1</td>\n",
       "      <td>0.822743</td>\n",
       "    </tr>\n",
       "    <tr>\n",
       "      <th>8192</th>\n",
       "      <td>8192</td>\n",
       "      <td>['1911_20190719 (478).JPG', '1911_20190719 (45...</td>\n",
       "      <td>0</td>\n",
       "      <td>1</td>\n",
       "      <td>0.830590</td>\n",
       "    </tr>\n",
       "  </tbody>\n",
       "</table>\n",
       "</div>"
      ],
      "text/plain": [
       "      Unnamed: 0                                          filenames  \\\n",
       "67            67  ['Wyn_Camera3_WSCT0235.JPG', 'Wyn_Camera3_WSCT...   \n",
       "108          108  ['Wyn_Camera2_WSCT3258.JPG', 'Wyn_Camera2_WSCT...   \n",
       "922          922  ['Wyn_Camera3_WSCT0080.JPG', 'Wyn_Camera3_WSCT...   \n",
       "1309        1309  ['Wyn_Camera2_WSCT4745.JPG', 'Wyn_Camera2_WSCT...   \n",
       "1502        1502  ['Wyn_Camera2_WSCT5916.JPG', 'Wyn_Camera2_WSCT...   \n",
       "1939        1939  ['Wyn_Camera2_WSCT0281.JPG', 'Wyn_Camera2_WSCT...   \n",
       "1986        1986  ['Wyn_Camera2_WSCT0729.JPG', 'Wyn_Camera2_WSCT...   \n",
       "2036        2036  ['Wyn_Camera2_WSCT4727.JPG', 'Wyn_Camera2_WSCT...   \n",
       "2406        2406  ['2015_01_29_09_00_00.jpg', '2015_01_29_08_00_...   \n",
       "8192        8192  ['1911_20190719 (478).JPG', '1911_20190719 (45...   \n",
       "\n",
       "      trueLabels  predictedLabels  confidences  \n",
       "67             2                1     0.801425  \n",
       "108            2                1     0.826421  \n",
       "922            0                1     0.827526  \n",
       "1309           0                1     0.866113  \n",
       "1502           0                1     0.983106  \n",
       "1939           0                1     0.904960  \n",
       "1986           0                1     0.990627  \n",
       "2036           0                1     0.954166  \n",
       "2406           0                1     0.822743  \n",
       "8192           0                1     0.830590  "
      ]
     },
     "execution_count": 21,
     "metadata": {},
     "output_type": "execute_result"
    }
   ],
   "source": [
    "mismatch[mismatch['confidences'] > 0.80]"
   ]
  },
  {
   "cell_type": "code",
   "execution_count": null,
   "metadata": {},
   "outputs": [],
   "source": [
    "### visualize those sequences: \n",
    "## if RGB\n",
    "## just do imread:"
   ]
  },
  {
   "cell_type": "code",
   "execution_count": 22,
   "metadata": {},
   "outputs": [],
   "source": [
    "### when you have sequences ###\n",
    "### just get the list of files and separate into three columns\n",
    "files = results['filenames'].str.split(\",\", n = 2, expand = True)"
   ]
  },
  {
   "cell_type": "code",
   "execution_count": 26,
   "metadata": {},
   "outputs": [
    {
     "name": "stdout",
     "output_type": "stream",
     "text": [
      "0        'Wyn_Camera3_WSCT0445.JPG'\n",
      "1        'Wyn_Camera2_WSCT2058.JPG'\n",
      "2        'Wyn_Camera2_WSCT2997.JPG'\n",
      "3        'Wyn_Camera2_WSCT2049.JPG'\n",
      "4        'Wyn_Camera3_WSCT0843.JPG'\n",
      "                    ...            \n",
      "15491      '989_20180509 (328).JPG'\n",
      "15492      '989_20180509 (329).JPG'\n",
      "15493      '990_20180509 (100).JPG'\n",
      "15494      '990_20180509 (100).JPG'\n",
      "15495      '990_20180509 (295).JPG'\n",
      "Name: 1, Length: 15496, dtype: object\n",
      "0         'Wyn_Camera3_WSCT0452.JPG'\n",
      "1         'Wyn_Camera2_WSCT2049.JPG'\n",
      "2         'Wyn_Camera2_WSCT2987.JPG'\n",
      "3         'Wyn_Camera2_WSCT2063.JPG'\n",
      "4         'Wyn_Camera3_WSCT0846.JPG'\n",
      "                    ...             \n",
      "15491       '989_20180509 (330).JPG'\n",
      "15492       '989_20180509 (330).JPG'\n",
      "15493       '990_20180509 (101).JPG'\n",
      "15494       '990_20180509 (291).JPG'\n",
      "15495       '990_20180509 (289).JPG'\n",
      "Name: 0, Length: 15496, dtype: object\n"
     ]
    }
   ],
   "source": [
    "beforeFiles = files[0].str.split('[', n=2, expand = True)[1]\n",
    "print(beforeFiles)\n",
    "image = files[1]\n",
    "afterFiles = files[2].str.split(']', n=2, expand = True)[0]\n",
    "print(afterFiles)"
   ]
  },
  {
   "cell_type": "code",
   "execution_count": null,
   "metadata": {},
   "outputs": [],
   "source": []
  }
 ],
 "metadata": {
  "kernelspec": {
   "display_name": "Python 3.8.13",
   "language": "python",
   "name": "python3"
  },
  "language_info": {
   "codemirror_mode": {
    "name": "ipython",
    "version": 3
   },
   "file_extension": ".py",
   "mimetype": "text/x-python",
   "name": "python",
   "nbconvert_exporter": "python",
   "pygments_lexer": "ipython3",
   "version": "3.8.13"
  },
  "orig_nbformat": 4,
  "vscode": {
   "interpreter": {
    "hash": "a61ff342c82320e16bfc3ec00598c30076a67172fe0ba42bf7d90ff352a912bd"
   }
  }
 },
 "nbformat": 4,
 "nbformat_minor": 2
}
