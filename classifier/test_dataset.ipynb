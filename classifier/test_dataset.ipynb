{
 "cells": [
  {
   "cell_type": "markdown",
   "metadata": {},
   "source": [
    "###Must be run from snow-Dayz/classifier file "
   ]
  },
  {
   "cell_type": "code",
   "execution_count": 28,
   "metadata": {},
   "outputs": [],
   "source": [
    "from dataset import CTDataset \n",
    "import os\n",
    "import argparse\n",
    "import yaml\n",
    "import glob\n",
    "from tqdm import trange\n",
    "import pandas as pd\n"
   ]
  },
  {
   "cell_type": "code",
   "execution_count": 56,
   "metadata": {},
   "outputs": [],
   "source": [
    "## no sequence type)\n",
    "    # hard code config\n",
    "cfg = yaml.safe_load(open('/home/azureuser/snow-Dayz/configs/exp_resnet50_2classes.yaml'))\n",
    "labels = 'trainLabels.csv'\n",
    "folder = 'train'\n",
    "split = 'train'\n",
    "dataset_instance = CTDataset(labels, cfg, folder, split)\n",
    "\n",
    "print(dataset_instance.__len__())\n",
    "print(dataset_instance.__shape__())\n"
   ]
  },
  {
   "cell_type": "code",
   "execution_count": null,
   "metadata": {},
   "outputs": [],
   "source": [
    "## no sequence type)\n",
    "    # hard code config\n",
    "cfg = yaml.safe_load(open('/home/azureuser/snow-Dayz/configs/exp_resnet50_2classes_seq6hr.yaml'))\n",
    "labels = 'trainLabels.csv'\n",
    "folder = 'train'\n",
    "split = 'train'\n",
    "dataset_instance = CTDataset(labels, cfg, folder, split)\n",
    "\n",
    "print(dataset_instance.__len__())\n",
    "print(dataset_instance.__shape__())"
   ]
  },
  {
   "cell_type": "code",
   "execution_count": null,
   "metadata": {},
   "outputs": [],
   "source": [
    "dataset_instance.__getitem__(5)"
   ]
  },
  {
   "cell_type": "code",
   "execution_count": 75,
   "metadata": {},
   "outputs": [],
   "source": [
    "import torch\n",
    "t1 = torch.tensor([1,1,1,4])\n",
    "t2 = torch.tensor([2,2,2,4])\n",
    "t3 = torch.tensor([3,3,3,4])"
   ]
  },
  {
   "cell_type": "code",
   "execution_count": 76,
   "metadata": {},
   "outputs": [],
   "source": [
    "img_tensor = torch.stack([t1, t2, t3], dim = 0) "
   ]
  },
  {
   "cell_type": "code",
   "execution_count": 79,
   "metadata": {},
   "outputs": [
    {
     "name": "stdout",
     "output_type": "stream",
     "text": [
      "torch.Size([4])\n",
      "tensor([[1, 1, 1, 4],\n",
      "        [2, 2, 2, 4],\n",
      "        [3, 3, 3, 4]])\n"
     ]
    }
   ],
   "source": [
    "print(t1.shape)\n",
    "print(img_tensor)"
   ]
  },
  {
   "cell_type": "code",
   "execution_count": 78,
   "metadata": {},
   "outputs": [
    {
     "data": {
      "text/plain": [
       "torch.Size([3, 4])"
      ]
     },
     "execution_count": 78,
     "metadata": {},
     "output_type": "execute_result"
    }
   ],
   "source": [
    "img_tensor.shape"
   ]
  },
  {
   "cell_type": "code",
   "execution_count": 80,
   "metadata": {},
   "outputs": [
    {
     "data": {
      "text/plain": [
       "tensor([[1, 1, 1, 4],\n",
       "        [2, 2, 2, 4],\n",
       "        [3, 3, 3, 4]])"
      ]
     },
     "execution_count": 80,
     "metadata": {},
     "output_type": "execute_result"
    }
   ],
   "source": [
    "img_tensor"
   ]
  },
  {
   "cell_type": "code",
   "execution_count": null,
   "metadata": {},
   "outputs": [],
   "source": []
  }
 ],
 "metadata": {
  "kernelspec": {
   "display_name": "Python 3.8.13",
   "language": "python",
   "name": "python3"
  },
  "language_info": {
   "codemirror_mode": {
    "name": "ipython",
    "version": 3
   },
   "file_extension": ".py",
   "mimetype": "text/x-python",
   "name": "python",
   "nbconvert_exporter": "python",
   "pygments_lexer": "ipython3",
   "version": "3.8.13"
  },
  "orig_nbformat": 4,
  "vscode": {
   "interpreter": {
    "hash": "a61ff342c82320e16bfc3ec00598c30076a67172fe0ba42bf7d90ff352a912bd"
   }
  }
 },
 "nbformat": 4,
 "nbformat_minor": 2
}
