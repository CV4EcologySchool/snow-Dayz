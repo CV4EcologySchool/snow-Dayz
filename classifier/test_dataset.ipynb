{
 "cells": [
  {
   "cell_type": "markdown",
   "metadata": {},
   "source": [
    "###Must be run from snow-Dayz/classifier file "
   ]
  },
  {
   "cell_type": "code",
   "execution_count": 28,
   "metadata": {},
   "outputs": [],
   "source": [
    "from dataset import CTDataset \n",
    "import os\n",
    "import argparse\n",
    "import yaml\n",
    "import glob\n",
    "from tqdm import trange\n",
    "import pandas as pd\n"
   ]
  },
  {
   "cell_type": "code",
   "execution_count": 56,
   "metadata": {},
   "outputs": [],
   "source": [
    "## no sequence type)\n",
    "    # hard code config\n",
    "cfg = yaml.safe_load(open('/home/azureuser/snow-Dayz/configs/exp_resnet50_2classes.yaml'))\n",
    "labels = 'valLabels.csv'\n",
    "folder = 'val_resized'\n",
    "dataset_instance = CTDataset(labels, cfg, folder)\n",
    "\n",
    "print(dataset_instance.__len__())\n",
    "print(dataset_instance.__shape__())\n"
   ]
  },
  {
   "cell_type": "code",
   "execution_count": null,
   "metadata": {},
   "outputs": [],
   "source": [
    "## no sequence type)\n",
    "    # hard code config\n",
    "cfg = yaml.safe_load(open('/home/azureuser/snow-Dayz/configs/exp_resnet50_2classes_seq6hr.yaml'))\n",
    "labels = 'trainLabels.csv'\n",
    "folder = 'train_resized'\n",
    "split = 'train'\n",
    "dataset_instance = CTDataset(labels, cfg, folder, split)\n",
    "\n",
    "print(dataset_instance.__len__())\n",
    "print(dataset_instance.__shape__())\n",
    "sequences = dataset_instance.__shape__()\n",
    "df = pd.DataFrame(sequences)\n",
    "df.to_csv('/datadrive/vmData/weather/6hr_sequences.csv')"
   ]
  },
  {
   "cell_type": "code",
   "execution_count": null,
   "metadata": {},
   "outputs": [],
   "source": [
    "## no sequence type)\n",
    "    # hard code config\n",
    "cfg = yaml.safe_load(open('/home/azureuser/snow-Dayz/configs/exp_resnet50_2classes_seq12hr.yaml'))\n",
    "labels = 'trainLabels.csv'\n",
    "folder = 'train'\n",
    "split = 'train'\n",
    "dataset_instance = CTDataset(labels, cfg, folder, split)\n",
    "\n",
    "print(dataset_instance.__len__())\n",
    "print(dataset_instance.__shape__())\n",
    "sequences = dataset_instance.__shape__()\n",
    "df = pd.DataFrame(sequences)\n",
    "df.to_csv('/datadrive/vmData/weather/12hr_sequences.csv')"
   ]
  },
  {
   "cell_type": "code",
   "execution_count": null,
   "metadata": {},
   "outputs": [],
   "source": [
    "## no sequence type)\n",
    "    # hard code config\n",
    "cfg = yaml.safe_load(open('/home/azureuser/snow-Dayz/configs/exp_resnet50_2classes_seq24hr.yaml'))\n",
    "labels = 'trainLabels.csv'\n",
    "folder = 'train'\n",
    "split = 'train'\n",
    "dataset_instance = CTDataset(labels, cfg, folder, split)\n",
    "\n",
    "print(dataset_instance.__len__())\n",
    "print(dataset_instance.__shape__())\n",
    "sequences = dataset_instance.__shape__()\n",
    "df = pd.DataFrame(sequences)\n",
    "df.to_csv('/datadrive/vmData/weather/24hr_sequences.csv')"
   ]
  },
  {
   "cell_type": "code",
   "execution_count": null,
   "metadata": {},
   "outputs": [],
   "source": [
    "## no sequence type)\n",
    "    # hard code config\n",
    "cfg = yaml.safe_load(open('/home/azureuser/snow-Dayz/configs/exp_resnet50_2classes_seqSliding.yaml'))\n",
    "labels = 'trainLabels.csv'\n",
    "folder = 'train'\n",
    "split = 'train'\n",
    "dataset_instance = CTDataset(labels, cfg, folder, split)\n",
    "\n",
    "print(dataset_instance.__len__())\n",
    "print(dataset_instance.__shape__())\n",
    "sequences = dataset_instance.__shape__()\n",
    "df = pd.DataFrame(sequences)\n",
    "df.to_csv('/datadrive/vmData/weather/sliding_sequences.csv')"
   ]
  },
  {
   "cell_type": "code",
   "execution_count": null,
   "metadata": {},
   "outputs": [],
   "source": [
    "### test sequences dataset w drop statement\n",
    "cfg = yaml.safe_load(open('/home/azureuser/snow-Dayz/configs/exp_resnet50_3classes_seq6hr_dropTrue.yaml'))\n",
    "labels = 'trainLabels.csv'\n",
    "folder = 'train_resized'\n",
    "split = 'train'\n",
    "dataset_instance = CTDataset(labels, cfg, folder, split)\n",
    "\n",
    "print(dataset_instance.__len__())\n",
    "print(dataset_instance.__shape__())\n",
    "sequences = dataset_instance.__shape__()\n",
    "df = pd.DataFrame(sequences)\n",
    "df.to_csv('/datadrive/vmData/weather/6hr_sequences_dropTrue.csv')  "
   ]
  }
 ],
 "metadata": {
  "kernelspec": {
   "display_name": "Python 3.8.13",
   "language": "python",
   "name": "python3"
  },
  "language_info": {
   "codemirror_mode": {
    "name": "ipython",
    "version": 3
   },
   "file_extension": ".py",
   "mimetype": "text/x-python",
   "name": "python",
   "nbconvert_exporter": "python",
   "pygments_lexer": "ipython3",
   "version": "3.8.13"
  },
  "orig_nbformat": 4,
  "vscode": {
   "interpreter": {
    "hash": "a61ff342c82320e16bfc3ec00598c30076a67172fe0ba42bf7d90ff352a912bd"
   }
  }
 },
 "nbformat": 4,
 "nbformat_minor": 2
}
