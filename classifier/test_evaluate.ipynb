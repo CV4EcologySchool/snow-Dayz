{
 "cells": [
  {
   "cell_type": "code",
   "execution_count": 3,
   "metadata": {},
   "outputs": [],
   "source": [
    "import os\n",
    "import argparse\n",
    "import yaml\n",
    "import glob\n",
    "from tqdm import trange\n",
    "import pandas as pd\n",
    "import yaml\n",
    "import torch\n",
    "import scipy\n",
    "import numpy as np\n",
    "import argparse\n",
    "import os\n",
    "from glob import glob\n",
    "from sklearn.metrics import confusion_matrix, ConfusionMatrixDisplay, accuracy_score\n",
    "import matplotlib.pyplot as plt"
   ]
  },
  {
   "cell_type": "code",
   "execution_count": 4,
   "metadata": {},
   "outputs": [],
   "source": [
    "from dataset import CTDataset "
   ]
  },
  {
   "cell_type": "code",
   "execution_count": 5,
   "metadata": {},
   "outputs": [],
   "source": [
    "from train import create_dataloader, load_model "
   ]
  },
  {
   "cell_type": "code",
   "execution_count": null,
   "metadata": {},
   "outputs": [],
   "source": [
    "from dataset import CTDataset \n",
    "import os\n",
    "import argparse\n",
    "import yaml\n",
    "import glob\n",
    "from tqdm import trange\n",
    "import pandas as pd\n",
    "import yaml\n",
    "import torch\n",
    "import scipy\n",
    "import numpy as np\n",
    "import argparse\n",
    "import os\n",
    "from glob import glob\n",
    "from sklearn.metrics import confusion_matrix, ConfusionMatrixDisplay, accuracy_score\n",
    "import matplotlib.pyplot as plt\n",
    "from train import create_dataloader, load_model \n"
   ]
  },
  {
   "cell_type": "code",
   "execution_count": null,
   "metadata": {},
   "outputs": [],
   "source": [
    "## linux path: /home/azureuser/snow-Dayz/configs/exp_resnet50_2classes.yaml\n",
    "### local path \n",
    "cfg = yaml.safe_load(open('/Users/cmbreen/code/snow-Dayz/configs/exp_resnet50_2classes.yaml'))"
   ]
  },
  {
   "cell_type": "code",
   "execution_count": null,
   "metadata": {},
   "outputs": [],
   "source": [
    "model, current_epoch = load_model(cfg, outdir)"
   ]
  },
  {
   "cell_type": "code",
   "execution_count": null,
   "metadata": {},
   "outputs": [],
   "source": [
    "\n",
    "\n",
    "## We need the cfg (model configuration), model \n",
    "### could make this a class rather than a function\n",
    "def predict(cfg, dataLoader, model):\n",
    "    with torch.no_grad(): # no gradients needed for prediction\n",
    "        predictions = []\n",
    "        predict_labels = [] \n",
    "        labels = []\n",
    "        ##### may need to adjust this in the dataloader for the sequence:\n",
    "        for idx, (data, label) in enumerate(dataLoader): \n",
    "            prediction = model(data) \n",
    "            predict_label = torch.argmax(prediction, dim=1) \n",
    "\n",
    "        predictions.append(prediction)\n",
    "        predict_labels.append(int(predict_label))\n",
    "        labels.append(int(label))\n",
    "\n",
    "    prediction_label = model.predict(image)\n",
    "    label = max (prediction_label)\n",
    "\n",
    "    #print(pred_mask.shape) ## probabilities\n",
    "\n",
    "    return prediction"
   ]
  },
  {
   "cell_type": "code",
   "execution_count": null,
   "metadata": {},
   "outputs": [],
   "source": []
  }
 ],
 "metadata": {
  "kernelspec": {
   "display_name": "Python 3.8.13",
   "language": "python",
   "name": "python3"
  },
  "language_info": {
   "codemirror_mode": {
    "name": "ipython",
    "version": 3
   },
   "file_extension": ".py",
   "mimetype": "text/x-python",
   "name": "python",
   "nbconvert_exporter": "python",
   "pygments_lexer": "ipython3",
   "version": "3.8.13"
  },
  "orig_nbformat": 4,
  "vscode": {
   "interpreter": {
    "hash": "a61ff342c82320e16bfc3ec00598c30076a67172fe0ba42bf7d90ff352a912bd"
   }
  }
 },
 "nbformat": 4,
 "nbformat_minor": 2
}
