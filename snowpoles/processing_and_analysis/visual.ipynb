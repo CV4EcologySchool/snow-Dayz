{
 "cells": [
  {
   "cell_type": "code",
   "execution_count": 3,
   "metadata": {},
   "outputs": [],
   "source": [
    "import matplotlib.pyplot as plt\n",
    "import pandas as pd"
   ]
  },
  {
   "cell_type": "code",
   "execution_count": 24,
   "metadata": {},
   "outputs": [
    {
     "data": {
      "text/html": [
       "<div>\n",
       "<style scoped>\n",
       "    .dataframe tbody tr th:only-of-type {\n",
       "        vertical-align: middle;\n",
       "    }\n",
       "\n",
       "    .dataframe tbody tr th {\n",
       "        vertical-align: top;\n",
       "    }\n",
       "\n",
       "    .dataframe thead th {\n",
       "        text-align: right;\n",
       "    }\n",
       "</style>\n",
       "<table border=\"1\" class=\"dataframe\">\n",
       "  <thead>\n",
       "    <tr style=\"text-align: right;\">\n",
       "      <th></th>\n",
       "      <th>Camera</th>\n",
       "      <th>Error in Difference</th>\n",
       "      <th>Valid Examples</th>\n",
       "      <th>total Examples</th>\n",
       "      <th>training examples</th>\n",
       "      <th>Unnamed: 5</th>\n",
       "      <th>Unnamed: 6</th>\n",
       "    </tr>\n",
       "  </thead>\n",
       "  <tbody>\n",
       "    <tr>\n",
       "      <th>0</th>\n",
       "      <td>CHE10</td>\n",
       "      <td>0.383147</td>\n",
       "      <td>3.0</td>\n",
       "      <td>28.0</td>\n",
       "      <td>25.0</td>\n",
       "      <td>NaN</td>\n",
       "      <td>NaN</td>\n",
       "    </tr>\n",
       "    <tr>\n",
       "      <th>1</th>\n",
       "      <td>CHE2</td>\n",
       "      <td>1.457909</td>\n",
       "      <td>2.0</td>\n",
       "      <td>13.0</td>\n",
       "      <td>11.0</td>\n",
       "      <td>NaN</td>\n",
       "      <td>NaN</td>\n",
       "    </tr>\n",
       "    <tr>\n",
       "      <th>2</th>\n",
       "      <td>CHE3</td>\n",
       "      <td>0.207245</td>\n",
       "      <td>1.0</td>\n",
       "      <td>13.0</td>\n",
       "      <td>12.0</td>\n",
       "      <td>NaN</td>\n",
       "      <td>NaN</td>\n",
       "    </tr>\n",
       "    <tr>\n",
       "      <th>3</th>\n",
       "      <td>CHE4</td>\n",
       "      <td>0.975479</td>\n",
       "      <td>2.0</td>\n",
       "      <td>11.0</td>\n",
       "      <td>9.0</td>\n",
       "      <td>NaN</td>\n",
       "      <td>NaN</td>\n",
       "    </tr>\n",
       "    <tr>\n",
       "      <th>4</th>\n",
       "      <td>CHE5</td>\n",
       "      <td>3.590686</td>\n",
       "      <td>5.0</td>\n",
       "      <td>26.0</td>\n",
       "      <td>21.0</td>\n",
       "      <td>NaN</td>\n",
       "      <td>NaN</td>\n",
       "    </tr>\n",
       "  </tbody>\n",
       "</table>\n",
       "</div>"
      ],
      "text/plain": [
       "  Camera  Error in Difference  Valid Examples  total Examples  \\\n",
       "0  CHE10             0.383147             3.0            28.0   \n",
       "1   CHE2             1.457909             2.0            13.0   \n",
       "2   CHE3             0.207245             1.0            13.0   \n",
       "3   CHE4             0.975479             2.0            11.0   \n",
       "4   CHE5             3.590686             5.0            26.0   \n",
       "\n",
       "   training examples  Unnamed: 5  Unnamed: 6  \n",
       "0               25.0         NaN         NaN  \n",
       "1               11.0         NaN         NaN  \n",
       "2               12.0         NaN         NaN  \n",
       "3                9.0         NaN         NaN  \n",
       "4               21.0         NaN         NaN  "
      ]
     },
     "execution_count": 24,
     "metadata": {},
     "output_type": "execute_result"
    }
   ],
   "source": [
    "results = pd.read_csv('/Users/catherinebreen/Documents/Chapter 1/dendrite_outputs/IN/snow_poles_outputs_resized_LRe4_BS64_clean_wWAOK_IN/eval/trainingError.csv')\n",
    "results.head()"
   ]
  },
  {
   "cell_type": "code",
   "execution_count": 34,
   "metadata": {},
   "outputs": [
    {
     "data": {
      "image/png": "[encoded data removed]",
      "text/plain": [
       "<Figure size 432x288 with 1 Axes>"
      ]
     },
     "metadata": {
      "needs_background": "light"
     },
     "output_type": "display_data"
    }
   ],
   "source": [
    "## best model\n",
    "#results = pd.read_csv('/Users/catherinebreen/Documents/Chapter 1/dendrite_outputs/IN/snow_poles_outputs_resized_LRe4_BS64_clean_wWA_IN/eval/results.csv')\n",
    "results = pd.read_csv('/Users/catherinebreen/Documents/Chapter 1/dendrite_outputs/IN/snow_poles_outputs_resized_LRe4_BS64_clean_wWAOK_IN/eval/trainingError.csv')\n",
    "results.head()\n",
    "# plt.scatter(results['train'], results['Unnamed: 4'])\n",
    "# #plt.axhline(y=0, c= 'black')\n",
    "# plt.axis([0,700,-3,3])  #this line does the job\n",
    "\n",
    "fig = plt.figure()\n",
    "ax = fig.add_subplot(1, 1, 1)\n",
    "\n",
    "plt.scatter(results['training examples'], results['Error in Difference'])\n",
    "plt.axis([0,750,-3,3])  #this line does the job\n",
    "plt.xlabel(\"# of training examples\")\n",
    "plt.ylabel(\"difference in length (pixels)\")\n",
    "# Move left y-axis and bottim x-axis to centre, passing through (0,0)\n",
    "ax.spines['bottom'].set_position('center')\n",
    "# Eliminate upper and right axes\n",
    "ax.spines['right'].set_color('none')\n",
    "ax.spines['top'].set_color('none')\n",
    "\n",
    "# Show ticks in the left and lower axes only\n",
    "ax.xaxis.set_ticks_position('bottom')\n",
    "ax.yaxis.set_ticks_position('left')\n",
    "\n",
    "plt.show()"
   ]
  },
  {
   "cell_type": "code",
   "execution_count": 4,
   "metadata": {},
   "outputs": [],
   "source": [
    "## resize images to native resolution so that we can use the normal conversion \n",
    "results = pd.read_csv('/Users/catherinebreen/Documents/Chapter1/WRRsubmission/bestModel_snowdepthcm.csv')\n",
    "resDic = {'W2B': }"
   ]
  },
  {
   "cell_type": "code",
   "execution_count": null,
   "metadata": {},
   "outputs": [],
   "source": []
  }
 ],
 "metadata": {
  "kernelspec": {
   "display_name": "Python 3.8.13 ('cv4e')",
   "language": "python",
   "name": "python3"
  },
  "language_info": {
   "codemirror_mode": {
    "name": "ipython",
    "version": 3
   },
   "file_extension": ".py",
   "mimetype": "text/x-python",
   "name": "python",
   "nbconvert_exporter": "python",
   "pygments_lexer": "ipython3",
   "version": "3.8.13"
  },
  "orig_nbformat": 4,
  "vscode": {
   "interpreter": {
    "hash": "18c8a83839ab54cea1b05c10a00a7112ca56a675ec2461de8c8b43bf52970327"
   }
  }
 },
 "nbformat": 4,
 "nbformat_minor": 2
}
