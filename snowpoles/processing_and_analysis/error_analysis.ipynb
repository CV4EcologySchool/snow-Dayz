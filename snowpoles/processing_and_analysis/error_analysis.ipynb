{
 "cells": [
  {
   "cell_type": "code",
   "execution_count": 36,
   "metadata": {},
   "outputs": [],
   "source": [
    "import IPython\n",
    "from playsound import playsound\n",
    "import soundfile as sf\n",
    "import sounddevice as sd\n",
    "import matplotlib.pyplot as plt\n",
    "import PIL\n",
    "from PIL import Image\n",
    "from PIL import ExifTags\n",
    "import glob\n",
    "import exiftool ## more comprehensive than PIL\n",
    "import tqdm\n",
    "import pandas as pd\n",
    "import numpy as np\n"
   ]
  },
  {
   "cell_type": "code",
   "execution_count": 37,
   "metadata": {},
   "outputs": [],
   "source": [
    "results = pd.read_csv('/Volumes/CatBreen/aurora_outputs/snow_poles_outputs_resized_LRe4_BS64_E100_clean_SNEX_IN/eval_orig/results.csv')\n",
    "results['abs_diff'] = np.abs(results['difference'])\n",
    "error = pd.read_csv('/Users/catherinebreen/Dropbox/Chapter1/WRRsubmission/data/results_wa_images_for_error_analysis/model_error_codes.csv')\n"
   ]
  },
  {
   "cell_type": "code",
   "execution_count": 38,
   "metadata": {},
   "outputs": [
    {
     "name": "stdout",
     "output_type": "stream",
     "text": [
      "0      W2B_WSCT0020.JPG\n",
      "1      W2B_WSCT0024.JPG\n",
      "2      W2B_WSCT0025.JPG\n",
      "3      W2B_WSCT0036.JPG\n",
      "4      W2B_WSCT0050.JPG\n",
      "             ...       \n",
      "887    W9G_WSCT0479.JPG\n",
      "888    W9G_WSCT0484.JPG\n",
      "889    W9G_WSCT0500.JPG\n",
      "890    W9G_WSCT0501.JPG\n",
      "891    W9G_WSCT0504.JPG\n",
      "Name: filename, Length: 892, dtype: object\n",
      "0      E6A_WSCT0030.JPG\n",
      "1      E6A_WSCT0039.JPG\n",
      "2      E6A_WSCT0049.JPG\n",
      "3      E6A_WSCT0052.JPG\n",
      "4      E6A_WSCT0067.JPG\n",
      "             ...       \n",
      "887    W9G_WSCT0479.JPG\n",
      "888    W9G_WSCT0484.JPG\n",
      "889    W9G_WSCT0500.JPG\n",
      "890    W9G_WSCT0501.JPG\n",
      "891    W9G_WSCT0504.JPG\n",
      "Name: image_path, Length: 892, dtype: object\n"
     ]
    }
   ],
   "source": [
    "print(results['filename'])\n",
    "print(error['image_path'])"
   ]
  },
  {
   "cell_type": "code",
   "execution_count": 39,
   "metadata": {},
   "outputs": [],
   "source": [
    "results = results.merge(error, left_on='filename', right_on='image_path')"
   ]
  },
  {
   "cell_type": "code",
   "execution_count": 40,
   "metadata": {},
   "outputs": [
    {
     "data": {
      "text/html": [
       "<div>\n",
       "<style scoped>\n",
       "    .dataframe tbody tr th:only-of-type {\n",
       "        vertical-align: middle;\n",
       "    }\n",
       "\n",
       "    .dataframe tbody tr th {\n",
       "        vertical-align: top;\n",
       "    }\n",
       "\n",
       "    .dataframe thead th {\n",
       "        text-align: right;\n",
       "    }\n",
       "</style>\n",
       "<table border=\"1\" class=\"dataframe\">\n",
       "  <thead>\n",
       "    <tr style=\"text-align: right;\">\n",
       "      <th></th>\n",
       "      <th>Unnamed: 0_x</th>\n",
       "      <th>Camera</th>\n",
       "      <th>filename</th>\n",
       "      <th>x1_true</th>\n",
       "      <th>y1_true</th>\n",
       "      <th>x2_true</th>\n",
       "      <th>y2_true</th>\n",
       "      <th>x1_pred</th>\n",
       "      <th>y1s_pred</th>\n",
       "      <th>x2_pred</th>\n",
       "      <th>...</th>\n",
       "      <th>manual_snowdepth</th>\n",
       "      <th>difference</th>\n",
       "      <th>abs_diff</th>\n",
       "      <th>Unnamed: 0_y</th>\n",
       "      <th>image_path</th>\n",
       "      <th>error_code1</th>\n",
       "      <th>sunny_cloudy</th>\n",
       "      <th>closed_open</th>\n",
       "      <th>patchy_cont</th>\n",
       "      <th>storm</th>\n",
       "    </tr>\n",
       "  </thead>\n",
       "  <tbody>\n",
       "    <tr>\n",
       "      <th>0</th>\n",
       "      <td>0</td>\n",
       "      <td>W2B</td>\n",
       "      <td>W2B_WSCT0020.JPG</td>\n",
       "      <td>135.67105</td>\n",
       "      <td>72.996490</td>\n",
       "      <td>135.37631</td>\n",
       "      <td>186.43742</td>\n",
       "      <td>135.88866</td>\n",
       "      <td>74.563835</td>\n",
       "      <td>135.54382</td>\n",
       "      <td>...</td>\n",
       "      <td>-1.7640</td>\n",
       "      <td>-12.429601</td>\n",
       "      <td>12.429601</td>\n",
       "      <td>1</td>\n",
       "      <td>W2B_WSCT0020.JPG</td>\n",
       "      <td>0</td>\n",
       "      <td>6</td>\n",
       "      <td>open</td>\n",
       "      <td>NaN</td>\n",
       "      <td>none</td>\n",
       "    </tr>\n",
       "    <tr>\n",
       "      <th>1</th>\n",
       "      <td>1</td>\n",
       "      <td>W2B</td>\n",
       "      <td>W2B_WSCT0024.JPG</td>\n",
       "      <td>136.11316</td>\n",
       "      <td>72.996490</td>\n",
       "      <td>136.40790</td>\n",
       "      <td>187.22339</td>\n",
       "      <td>135.81169</td>\n",
       "      <td>73.541466</td>\n",
       "      <td>135.78185</td>\n",
       "      <td>...</td>\n",
       "      <td>-3.8880</td>\n",
       "      <td>-7.546175</td>\n",
       "      <td>7.546175</td>\n",
       "      <td>30</td>\n",
       "      <td>W2B_WSCT0024.JPG</td>\n",
       "      <td>0</td>\n",
       "      <td>6</td>\n",
       "      <td>open</td>\n",
       "      <td>NaN</td>\n",
       "      <td>none</td>\n",
       "    </tr>\n",
       "    <tr>\n",
       "      <th>2</th>\n",
       "      <td>2</td>\n",
       "      <td>W2B</td>\n",
       "      <td>W2B_WSCT0025.JPG</td>\n",
       "      <td>136.11316</td>\n",
       "      <td>72.996490</td>\n",
       "      <td>135.81842</td>\n",
       "      <td>185.91345</td>\n",
       "      <td>135.63493</td>\n",
       "      <td>72.851580</td>\n",
       "      <td>135.65598</td>\n",
       "      <td>...</td>\n",
       "      <td>-0.3480</td>\n",
       "      <td>-4.791996</td>\n",
       "      <td>4.791996</td>\n",
       "      <td>137</td>\n",
       "      <td>W2B_WSCT0025.JPG</td>\n",
       "      <td>0</td>\n",
       "      <td>6</td>\n",
       "      <td>open</td>\n",
       "      <td>NaN</td>\n",
       "      <td>none</td>\n",
       "    </tr>\n",
       "    <tr>\n",
       "      <th>3</th>\n",
       "      <td>3</td>\n",
       "      <td>W2B</td>\n",
       "      <td>W2B_WSCT0036.JPG</td>\n",
       "      <td>136.26053</td>\n",
       "      <td>72.734505</td>\n",
       "      <td>136.26053</td>\n",
       "      <td>186.43742</td>\n",
       "      <td>135.87595</td>\n",
       "      <td>73.493980</td>\n",
       "      <td>135.83720</td>\n",
       "      <td>...</td>\n",
       "      <td>-2.4720</td>\n",
       "      <td>-5.888470</td>\n",
       "      <td>5.888470</td>\n",
       "      <td>77</td>\n",
       "      <td>W2B_WSCT0036.JPG</td>\n",
       "      <td>0</td>\n",
       "      <td>6</td>\n",
       "      <td>open</td>\n",
       "      <td>NaN</td>\n",
       "      <td>none</td>\n",
       "    </tr>\n",
       "    <tr>\n",
       "      <th>4</th>\n",
       "      <td>4</td>\n",
       "      <td>W2B</td>\n",
       "      <td>W2B_WSCT0050.JPG</td>\n",
       "      <td>136.11316</td>\n",
       "      <td>78.236260</td>\n",
       "      <td>136.40790</td>\n",
       "      <td>191.15321</td>\n",
       "      <td>136.39491</td>\n",
       "      <td>77.997250</td>\n",
       "      <td>135.94210</td>\n",
       "      <td>...</td>\n",
       "      <td>-0.3480</td>\n",
       "      <td>-3.106759</td>\n",
       "      <td>3.106759</td>\n",
       "      <td>292</td>\n",
       "      <td>W2B_WSCT0050.JPG</td>\n",
       "      <td>0</td>\n",
       "      <td>6</td>\n",
       "      <td>open</td>\n",
       "      <td>NaN</td>\n",
       "      <td>none</td>\n",
       "    </tr>\n",
       "    <tr>\n",
       "      <th>...</th>\n",
       "      <td>...</td>\n",
       "      <td>...</td>\n",
       "      <td>...</td>\n",
       "      <td>...</td>\n",
       "      <td>...</td>\n",
       "      <td>...</td>\n",
       "      <td>...</td>\n",
       "      <td>...</td>\n",
       "      <td>...</td>\n",
       "      <td>...</td>\n",
       "      <td>...</td>\n",
       "      <td>...</td>\n",
       "      <td>...</td>\n",
       "      <td>...</td>\n",
       "      <td>...</td>\n",
       "      <td>...</td>\n",
       "      <td>...</td>\n",
       "      <td>...</td>\n",
       "      <td>...</td>\n",
       "      <td>...</td>\n",
       "      <td>...</td>\n",
       "    </tr>\n",
       "    <tr>\n",
       "      <th>887</th>\n",
       "      <td>887</td>\n",
       "      <td>W9G</td>\n",
       "      <td>W9G_WSCT0479.JPG</td>\n",
       "      <td>171.48158</td>\n",
       "      <td>2.783626</td>\n",
       "      <td>170.45000</td>\n",
       "      <td>152.11696</td>\n",
       "      <td>170.02644</td>\n",
       "      <td>2.232068</td>\n",
       "      <td>168.45103</td>\n",
       "      <td>...</td>\n",
       "      <td>3.8136</td>\n",
       "      <td>-5.104132</td>\n",
       "      <td>5.104132</td>\n",
       "      <td>123</td>\n",
       "      <td>W9G_WSCT0479.JPG</td>\n",
       "      <td>5</td>\n",
       "      <td>6</td>\n",
       "      <td>closed</td>\n",
       "      <td>patchy</td>\n",
       "      <td>none</td>\n",
       "    </tr>\n",
       "    <tr>\n",
       "      <th>888</th>\n",
       "      <td>888</td>\n",
       "      <td>W9G</td>\n",
       "      <td>W9G_WSCT0484.JPG</td>\n",
       "      <td>172.95526</td>\n",
       "      <td>3.045614</td>\n",
       "      <td>171.33421</td>\n",
       "      <td>152.11696</td>\n",
       "      <td>171.10732</td>\n",
       "      <td>2.884687</td>\n",
       "      <td>169.20663</td>\n",
       "      <td>...</td>\n",
       "      <td>4.3152</td>\n",
       "      <td>-3.190600</td>\n",
       "      <td>3.190600</td>\n",
       "      <td>278</td>\n",
       "      <td>W9G_WSCT0484.JPG</td>\n",
       "      <td>5</td>\n",
       "      <td>6</td>\n",
       "      <td>closed</td>\n",
       "      <td>patchy</td>\n",
       "      <td>none</td>\n",
       "    </tr>\n",
       "    <tr>\n",
       "      <th>889</th>\n",
       "      <td>889</td>\n",
       "      <td>W9G</td>\n",
       "      <td>W9G_WSCT0500.JPG</td>\n",
       "      <td>172.80789</td>\n",
       "      <td>2.521637</td>\n",
       "      <td>171.18684</td>\n",
       "      <td>152.37895</td>\n",
       "      <td>170.93670</td>\n",
       "      <td>3.208674</td>\n",
       "      <td>168.95850</td>\n",
       "      <td>...</td>\n",
       "      <td>2.7312</td>\n",
       "      <td>-3.051646</td>\n",
       "      <td>3.051646</td>\n",
       "      <td>299</td>\n",
       "      <td>W9G_WSCT0500.JPG</td>\n",
       "      <td>5</td>\n",
       "      <td>6</td>\n",
       "      <td>closed</td>\n",
       "      <td>patchy</td>\n",
       "      <td>none</td>\n",
       "    </tr>\n",
       "    <tr>\n",
       "      <th>890</th>\n",
       "      <td>890</td>\n",
       "      <td>W9G</td>\n",
       "      <td>W9G_WSCT0501.JPG</td>\n",
       "      <td>172.36578</td>\n",
       "      <td>2.783626</td>\n",
       "      <td>171.18684</td>\n",
       "      <td>152.11696</td>\n",
       "      <td>171.22234</td>\n",
       "      <td>3.440930</td>\n",
       "      <td>169.19492</td>\n",
       "      <td>...</td>\n",
       "      <td>3.8136</td>\n",
       "      <td>-5.846287</td>\n",
       "      <td>5.846287</td>\n",
       "      <td>80</td>\n",
       "      <td>W9G_WSCT0501.JPG</td>\n",
       "      <td>0</td>\n",
       "      <td>6</td>\n",
       "      <td>closed</td>\n",
       "      <td>NaN</td>\n",
       "      <td>none</td>\n",
       "    </tr>\n",
       "    <tr>\n",
       "      <th>891</th>\n",
       "      <td>891</td>\n",
       "      <td>W9G</td>\n",
       "      <td>W9G_WSCT0504.JPG</td>\n",
       "      <td>173.25000</td>\n",
       "      <td>2.783626</td>\n",
       "      <td>171.33421</td>\n",
       "      <td>152.11696</td>\n",
       "      <td>171.27450</td>\n",
       "      <td>2.841793</td>\n",
       "      <td>169.33936</td>\n",
       "      <td>...</td>\n",
       "      <td>3.7608</td>\n",
       "      <td>-6.589479</td>\n",
       "      <td>6.589479</td>\n",
       "      <td>52</td>\n",
       "      <td>W9G_WSCT0504.JPG</td>\n",
       "      <td>0</td>\n",
       "      <td>7</td>\n",
       "      <td>closed</td>\n",
       "      <td>NaN</td>\n",
       "      <td>none</td>\n",
       "    </tr>\n",
       "  </tbody>\n",
       "</table>\n",
       "<p>892 rows × 26 columns</p>\n",
       "</div>"
      ],
      "text/plain": [
       "     Unnamed: 0_x Camera          filename    x1_true    y1_true    x2_true  \\\n",
       "0               0    W2B  W2B_WSCT0020.JPG  135.67105  72.996490  135.37631   \n",
       "1               1    W2B  W2B_WSCT0024.JPG  136.11316  72.996490  136.40790   \n",
       "2               2    W2B  W2B_WSCT0025.JPG  136.11316  72.996490  135.81842   \n",
       "3               3    W2B  W2B_WSCT0036.JPG  136.26053  72.734505  136.26053   \n",
       "4               4    W2B  W2B_WSCT0050.JPG  136.11316  78.236260  136.40790   \n",
       "..            ...    ...               ...        ...        ...        ...   \n",
       "887           887    W9G  W9G_WSCT0479.JPG  171.48158   2.783626  170.45000   \n",
       "888           888    W9G  W9G_WSCT0484.JPG  172.95526   3.045614  171.33421   \n",
       "889           889    W9G  W9G_WSCT0500.JPG  172.80789   2.521637  171.18684   \n",
       "890           890    W9G  W9G_WSCT0501.JPG  172.36578   2.783626  171.18684   \n",
       "891           891    W9G  W9G_WSCT0504.JPG  173.25000   2.783626  171.33421   \n",
       "\n",
       "       y2_true    x1_pred   y1s_pred    x2_pred  ...  manual_snowdepth  \\\n",
       "0    186.43742  135.88866  74.563835  135.54382  ...           -1.7640   \n",
       "1    187.22339  135.81169  73.541466  135.78185  ...           -3.8880   \n",
       "2    185.91345  135.63493  72.851580  135.65598  ...           -0.3480   \n",
       "3    186.43742  135.87595  73.493980  135.83720  ...           -2.4720   \n",
       "4    191.15321  136.39491  77.997250  135.94210  ...           -0.3480   \n",
       "..         ...        ...        ...        ...  ...               ...   \n",
       "887  152.11696  170.02644   2.232068  168.45103  ...            3.8136   \n",
       "888  152.11696  171.10732   2.884687  169.20663  ...            4.3152   \n",
       "889  152.37895  170.93670   3.208674  168.95850  ...            2.7312   \n",
       "890  152.11696  171.22234   3.440930  169.19492  ...            3.8136   \n",
       "891  152.11696  171.27450   2.841793  169.33936  ...            3.7608   \n",
       "\n",
       "     difference   abs_diff  Unnamed: 0_y        image_path  error_code1  \\\n",
       "0    -12.429601  12.429601             1  W2B_WSCT0020.JPG            0   \n",
       "1     -7.546175   7.546175            30  W2B_WSCT0024.JPG            0   \n",
       "2     -4.791996   4.791996           137  W2B_WSCT0025.JPG            0   \n",
       "3     -5.888470   5.888470            77  W2B_WSCT0036.JPG            0   \n",
       "4     -3.106759   3.106759           292  W2B_WSCT0050.JPG            0   \n",
       "..          ...        ...           ...               ...          ...   \n",
       "887   -5.104132   5.104132           123  W9G_WSCT0479.JPG            5   \n",
       "888   -3.190600   3.190600           278  W9G_WSCT0484.JPG            5   \n",
       "889   -3.051646   3.051646           299  W9G_WSCT0500.JPG            5   \n",
       "890   -5.846287   5.846287            80  W9G_WSCT0501.JPG            0   \n",
       "891   -6.589479   6.589479            52  W9G_WSCT0504.JPG            0   \n",
       "\n",
       "     sunny_cloudy  closed_open  patchy_cont  storm  \n",
       "0               6         open          NaN   none  \n",
       "1               6         open          NaN   none  \n",
       "2               6         open          NaN   none  \n",
       "3               6         open          NaN   none  \n",
       "4               6         open          NaN   none  \n",
       "..            ...          ...          ...    ...  \n",
       "887             6       closed       patchy   none  \n",
       "888             6       closed       patchy   none  \n",
       "889             6       closed       patchy   none  \n",
       "890             6       closed          NaN   none  \n",
       "891             7       closed          NaN   none  \n",
       "\n",
       "[892 rows x 26 columns]"
      ]
     },
     "execution_count": 40,
     "metadata": {},
     "output_type": "execute_result"
    }
   ],
   "source": [
    "results"
   ]
  },
  {
   "cell_type": "code",
   "execution_count": 46,
   "metadata": {},
   "outputs": [
    {
     "data": {
      "image/png": "[encoded data removed]",
      "text/plain": [
       "<Figure size 576x432 with 1 Axes>"
      ]
     },
     "metadata": {
      "needs_background": "light"
     },
     "output_type": "display_data"
    }
   ],
   "source": [
    "# Group data by 'canopy'\n",
    "without_storms = results[results['error_code1']!=2]\n",
    "grouped = without_storms.groupby('sunny_cloudy')['abs_diff']\n",
    "\n",
    "# Create boxplot\n",
    "plt.figure(figsize=(8, 6))\n",
    "plt.boxplot([group.values for _, group in grouped], labels=grouped.groups.keys())\n",
    "plt.title('ANOVA Boxplot')\n",
    "plt.xlabel('Canopy')\n",
    "plt.ylabel('abs. residual error')\n",
    "plt.show()"
   ]
  },
  {
   "cell_type": "code",
   "execution_count": 47,
   "metadata": {},
   "outputs": [
    {
     "data": {
      "image/png": "[encoded data removed]",
      "text/plain": [
       "<Figure size 576x432 with 1 Axes>"
      ]
     },
     "metadata": {
      "needs_background": "light"
     },
     "output_type": "display_data"
    }
   ],
   "source": [
    "# Group data by 'canopy'\n",
    "grouped = results.groupby('closed_open')['abs_diff']\n",
    "\n",
    "# Create boxplot\n",
    "plt.figure(figsize=(8, 6))\n",
    "plt.boxplot([group.values for _, group in grouped], labels=grouped.groups.keys())\n",
    "plt.ylabel('abs. residual error')\n",
    "plt.show()"
   ]
  },
  {
   "cell_type": "code",
   "execution_count": 43,
   "metadata": {},
   "outputs": [
    {
     "data": {
      "image/png": "[encoded data removed]",
      "text/plain": [
       "<Figure size 576x432 with 1 Axes>"
      ]
     },
     "metadata": {
      "needs_background": "light"
     },
     "output_type": "display_data"
    }
   ],
   "source": [
    "# Group data by 'canopy'\n",
    "grouped = results.groupby('error_code1')['abs_diff']\n",
    "\n",
    "# Create boxplot\n",
    "plt.figure(figsize=(8, 6))\n",
    "plt.boxplot([group.values for _, group in grouped], labels=grouped.groups.keys())\n",
    "plt.title('ANOVA Boxplot')\n",
    "plt.xlabel('Canopy')\n",
    "plt.ylabel('abs. residual error')\n",
    "plt.show()"
   ]
  },
  {
   "cell_type": "code",
   "execution_count": 60,
   "metadata": {},
   "outputs": [
    {
     "data": {
      "image/png": "[encoded data removed]",
      "text/plain": [
       "<Figure size 576x432 with 1 Axes>"
      ]
     },
     "metadata": {
      "needs_background": "light"
     },
     "output_type": "display_data"
    }
   ],
   "source": [
    "# Group data by 'canopy'\n",
    "grouped = results.groupby('storm')['abs_diff']\n",
    "\n",
    "# Create boxplot\n",
    "plt.figure(figsize=(8, 6))\n",
    "plt.boxplot([group.values for _, group in grouped], labels=grouped.groups.keys())\n",
    "plt.title('ANOVA Boxplot')\n",
    "plt.ylabel('abs. residual error')\n",
    "plt.show()"
   ]
  },
  {
   "cell_type": "code",
   "execution_count": 51,
   "metadata": {},
   "outputs": [],
   "source": [
    "## group by month \n",
    "dateinfo = pd.read_csv('/Users/catherinebreen/Documents/Chapter1/WRRsubmission/labeledImgs_datetime_info.csv')\n",
    "dateinfo.rename(columns={'filenames':'filename'}, inplace=True)\n",
    "results = results.merge(dateinfo, on = 'filename', how='left')\n",
    "results[\"date\"] = pd.to_datetime(results[\"datetimes\"])\n"
   ]
  },
  {
   "cell_type": "code",
   "execution_count": 64,
   "metadata": {},
   "outputs": [
    {
     "data": {
      "image/png": "[encoded data removed]",
      "text/plain": [
       "<Figure size 576x432 with 1 Axes>"
      ]
     },
     "metadata": {
      "needs_background": "light"
     },
     "output_type": "display_data"
    }
   ],
   "source": [
    "# Extract month from 'date' column\n",
    "results['month'] = results['date'].dt.month\n",
    "\n",
    "# Define custom order for months\n",
    "custom_order = [9, 10, 11, 12, 1, 2, 3, 4, 5, 6]\n",
    "custom_labels = ['Sept', 'Oct', 'Nov', 'Dec', 'Jan', 'Feb', 'Mar', 'Apr', 'May', 'Jun']\n",
    "\n",
    "\n",
    "# Group data by 'month' and calculate average error\n",
    "grouped = results.groupby('month')['abs_diff']\n",
    "\n",
    "# Create boxplot with custom order\n",
    "plt.figure(figsize=(8, 6))\n",
    "plt.boxplot([grouped.get_group(month).values for month in custom_order], labels=custom_labels)\n",
    "plt.title('ANOVA Boxplot')\n",
    "plt.ylabel('abs. residual error')\n",
    "plt.show()"
   ]
  },
  {
   "cell_type": "code",
   "execution_count": 65,
   "metadata": {},
   "outputs": [
    {
     "data": {
      "image/png": "[encoded data removed]",
      "text/plain": [
       "<Figure size 576x432 with 1 Axes>"
      ]
     },
     "metadata": {
      "needs_background": "light"
     },
     "output_type": "display_data"
    }
   ],
   "source": [
    "## group by hour of day \n",
    "results['hour'] = results['date'].dt.hour\n",
    "\n",
    "# Group data by 'month' and calculate average error\n",
    "grouped = results.groupby('hour')['abs_diff']\n",
    "\n",
    "# Create boxplot with custom order\n",
    "plt.figure(figsize=(8, 6))\n",
    "plt.boxplot([group.values for _, group in grouped], labels=grouped.groups.keys())\n",
    "plt.title('ANOVA Boxplot')\n",
    "plt.ylabel('abs. residual error')\n",
    "plt.show()"
   ]
  },
  {
   "cell_type": "code",
   "execution_count": 68,
   "metadata": {},
   "outputs": [
    {
     "data": {
      "text/plain": [
       "-13.097043311776249"
      ]
     },
     "execution_count": 68,
     "metadata": {},
     "output_type": "execute_result"
    }
   ],
   "source": [
    "np.min(results['automated_depth'])"
   ]
  },
  {
   "cell_type": "code",
   "execution_count": 71,
   "metadata": {},
   "outputs": [
    {
     "data": {
      "image/png": "[encoded data removed]",
      "text/plain": [
       "<Figure size 720x432 with 1 Axes>"
      ]
     },
     "metadata": {
      "needs_background": "light"
     },
     "output_type": "display_data"
    }
   ],
   "source": [
    "## group by snow depth\n",
    "# Define bin edges\n",
    "bin_edges = np.arange(-20, 200, 30)  # Bins of width 10 from 0 to 150\n",
    "\n",
    "# Create 'bin' column based on 'depth' values\n",
    "results['bin'] = pd.cut(results['automated_depth'], bins=bin_edges, right=False, include_lowest=True)\n",
    "\n",
    "# Group data by 'bin' and calculate average error\n",
    "grouped = results.groupby('bin')['abs_diff']\n",
    "\n",
    "# Create boxplot\n",
    "plt.figure(figsize=(10, 6))\n",
    "plt.boxplot([group.values for _, group in grouped], labels=[str(bin) for bin in grouped.groups.keys()], vert=False)\n",
    "plt.title('Boxplot of Error by Depth Bin')\n",
    "plt.xlabel('Error')\n",
    "plt.ylabel('Depth Bin')\n",
    "plt.show()"
   ]
  },
  {
   "cell_type": "code",
   "execution_count": null,
   "metadata": {},
   "outputs": [],
   "source": []
  }
 ],
 "metadata": {
  "kernelspec": {
   "display_name": "Python 3",
   "language": "python",
   "name": "python3"
  },
  "language_info": {
   "codemirror_mode": {
    "name": "ipython",
    "version": 3
   },
   "file_extension": ".py",
   "mimetype": "text/x-python",
   "name": "python",
   "nbconvert_exporter": "python",
   "pygments_lexer": "ipython3",
   "version": "3.8.13"
  }
 },
 "nbformat": 4,
 "nbformat_minor": 2
}
