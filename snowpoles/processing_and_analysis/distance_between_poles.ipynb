{
 "cells": [
  {
   "cell_type": "code",
   "execution_count": 1,
   "metadata": {},
   "outputs": [
    {
     "name": "stderr",
     "output_type": "stream",
     "text": [
      "/var/folders/yv/mzlh10ts71lg0nhr7pw_0q080000gn/T/ipykernel_46206/2162656668.py:1: DeprecationWarning: \n",
      "Pyarrow will become a required dependency of pandas in the next major release of pandas (pandas 3.0),\n",
      "(to allow more performant data types, such as the Arrow string type, and better interoperability with other libraries)\n",
      "but was not found to be installed on your system.\n",
      "If this would cause problems for you,\n",
      "please provide us feedback at https://github.com/pandas-dev/pandas/issues/54466\n",
      "        \n",
      "  import pandas as pd\n"
     ]
    }
   ],
   "source": [
    "import pandas as pd\n",
    "import numpy as np"
   ]
  },
  {
   "cell_type": "code",
   "execution_count": 2,
   "metadata": {},
   "outputs": [
    {
     "name": "stdout",
     "output_type": "stream",
     "text": [
      "['E3A' 'E6A' 'E6B' 'E8A' 'E9A' 'E9B' 'E9C' 'E9D' 'E9E' 'E9F' 'E9G'\n",
      " 'TLSK20' 'W1A' 'W1B' 'W2A' 'W2B' 'W3A' 'W5A' 'W6A' 'W6B' 'W6C' 'W8A'\n",
      " 'W8B' 'W8C' 'W9A' 'W9B' 'W9C' 'W9D' 'W9E' 'W9G']\n",
      "    ID     ident   Latitude   Longitude     y_UTM12N     x_UTM12N  type\n",
      "0  E3A   E3A CAM  39.108011 -107.881267  4333394.936  769672.9616   CAM\n",
      "1  E3A  E3A POLE  39.107937 -107.881191  4333386.947  769679.8169  POLE\n",
      "2  E6A   E6A CAM  39.097489 -107.862526  4332282.791  771334.1861   CAM\n",
      "3  E6A  E6A POLE  39.097464 -107.862476  4332280.166  771338.6070  POLE\n",
      "4  E6B   E6B CAM  39.048970 -107.913070  4326746.985  767145.2541   CAM\n"
     ]
    },
    {
     "name": "stderr",
     "output_type": "stream",
     "text": [
      "/var/folders/yv/mzlh10ts71lg0nhr7pw_0q080000gn/T/ipykernel_46206/477144364.py:2: FutureWarning: unique with argument that is not not a Series, Index, ExtensionArray, or np.ndarray is deprecated and will raise in a future version.\n",
      "  cameras = pd.unique([i.split(' ')[0] for i in data['ident']])\n"
     ]
    }
   ],
   "source": [
    "data = pd.read_csv('/Users/catherinebreen/Dropbox/CBRE and SnowEx/SnowEx_for_NSIDC/2020_camera_imagery_submission/GM_snowex2020_timelapsecams.csv')\n",
    "cameras = pd.unique([i.split(' ')[0] for i in data['ident']])\n",
    "print(cameras)\n",
    "data['ID'] = [i.split(' ')[0] for i in data['ident']]\n",
    "data['type'] = [i.split(' ')[1] for i in data['ident']]\n",
    "print(data.head())"
   ]
  },
  {
   "cell_type": "code",
   "execution_count": 3,
   "metadata": {},
   "outputs": [],
   "source": [
    "# Function to calculate the Euclidean distance between two points in UTM coordinates\n",
    "def calculate_distance(x1, y1, x2, y2):\n",
    "    return np.sqrt((x2 - x1)**2 + (y2 - y1)**2)\n"
   ]
  },
  {
   "cell_type": "code",
   "execution_count": 4,
   "metadata": {},
   "outputs": [],
   "source": [
    "# Function to calculate the Haversine distance between two points in latitude and longitude\n",
    "def haversine(lat1, lon1, lat2, lon2):\n",
    "    # Radius of the Earth in meters\n",
    "    R = 6371000\n",
    "    # Convert latitude and longitude from degrees to radians\n",
    "    phi1, phi2 = np.radians(lat1), np.radians(lat2)\n",
    "    delta_phi = np.radians(lat2 - lat1)\n",
    "    delta_lambda = np.radians(lon2 - lon1)\n",
    "    # Haversine formula\n",
    "    a = np.sin(delta_phi / 2.0)**2 + np.cos(phi1) * np.cos(phi2) * np.sin(delta_lambda / 2.0)**2\n",
    "    c = 2 * np.arctan2(np.sqrt(a), np.sqrt(1 - a))\n",
    "    return R * c\n"
   ]
  },
  {
   "cell_type": "code",
   "execution_count": 5,
   "metadata": {},
   "outputs": [],
   "source": [
    "dist = []\n",
    "for cam in cameras: \n",
    "    df = data[data['ID'] == cam]\n",
    "    c = df[df['type'] == 'CAM'].reset_index()\n",
    "    p = df[df['type'] == 'POLE'].reset_index()\n",
    "    m = calculate_distance(c['x_UTM12N'][0].tolist(), c['y_UTM12N'][0].tolist(), p['x_UTM12N'][0].tolist(), p['y_UTM12N'][0].tolist())\n",
    "    #m = haversine(c['Latitude'][0].tolist(), c['Longitude'][0].tolist(), p['Latitude'][0].tolist(), p['Longitude'][0].tolist())\n",
    "    dist.append(m)"
   ]
  },
  {
   "cell_type": "code",
   "execution_count": 6,
   "metadata": {},
   "outputs": [],
   "source": [
    "results = pd.DataFrame({'cam': cameras, 'dist': dist})"
   ]
  },
  {
   "cell_type": "code",
   "execution_count": 7,
   "metadata": {},
   "outputs": [
    {
     "data": {
      "text/html": [
       "<div>\n",
       "<style scoped>\n",
       "    .dataframe tbody tr th:only-of-type {\n",
       "        vertical-align: middle;\n",
       "    }\n",
       "\n",
       "    .dataframe tbody tr th {\n",
       "        vertical-align: top;\n",
       "    }\n",
       "\n",
       "    .dataframe thead th {\n",
       "        text-align: right;\n",
       "    }\n",
       "</style>\n",
       "<table border=\"1\" class=\"dataframe\">\n",
       "  <thead>\n",
       "    <tr style=\"text-align: right;\">\n",
       "      <th></th>\n",
       "      <th>cam</th>\n",
       "      <th>dist</th>\n",
       "    </tr>\n",
       "  </thead>\n",
       "  <tbody>\n",
       "    <tr>\n",
       "      <th>0</th>\n",
       "      <td>E3A</td>\n",
       "      <td>10.527073</td>\n",
       "    </tr>\n",
       "    <tr>\n",
       "      <th>1</th>\n",
       "      <td>E6A</td>\n",
       "      <td>5.141496</td>\n",
       "    </tr>\n",
       "    <tr>\n",
       "      <th>2</th>\n",
       "      <td>E6B</td>\n",
       "      <td>11.165701</td>\n",
       "    </tr>\n",
       "    <tr>\n",
       "      <th>3</th>\n",
       "      <td>E8A</td>\n",
       "      <td>10.503074</td>\n",
       "    </tr>\n",
       "    <tr>\n",
       "      <th>4</th>\n",
       "      <td>E9A</td>\n",
       "      <td>10.522233</td>\n",
       "    </tr>\n",
       "  </tbody>\n",
       "</table>\n",
       "</div>"
      ],
      "text/plain": [
       "   cam       dist\n",
       "0  E3A  10.527073\n",
       "1  E6A   5.141496\n",
       "2  E6B  11.165701\n",
       "3  E8A  10.503074\n",
       "4  E9A  10.522233"
      ]
     },
     "execution_count": 7,
     "metadata": {},
     "output_type": "execute_result"
    }
   ],
   "source": [
    "results.head()"
   ]
  },
  {
   "cell_type": "code",
   "execution_count": null,
   "metadata": {},
   "outputs": [],
   "source": []
  },
  {
   "cell_type": "code",
   "execution_count": 8,
   "metadata": {},
   "outputs": [],
   "source": [
    "results.to_csv('/Users/catherinebreen/Dropbox/Chapter1/WRRsubmission/distance_from_cam.csv')"
   ]
  },
  {
   "cell_type": "code",
   "execution_count": null,
   "metadata": {},
   "outputs": [],
   "source": []
  }
 ],
 "metadata": {
  "kernelspec": {
   "display_name": "sklearn-env",
   "language": "python",
   "name": "python3"
  },
  "language_info": {
   "codemirror_mode": {
    "name": "ipython",
    "version": 3
   },
   "file_extension": ".py",
   "mimetype": "text/x-python",
   "name": "python",
   "nbconvert_exporter": "python",
   "pygments_lexer": "ipython3",
   "version": "3.12.1"
  }
 },
 "nbformat": 4,
 "nbformat_minor": 2
}
