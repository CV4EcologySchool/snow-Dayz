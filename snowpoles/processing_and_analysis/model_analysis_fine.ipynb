{
 "cells": [
  {
   "cell_type": "code",
   "execution_count": 1,
   "metadata": {},
   "outputs": [],
   "source": [
    "import pandas as pd\n",
    "import matplotlib.pyplot as plt\n",
    "import numpy as np\n",
    "import glob\n",
    "import PIL\n",
    "from PIL import Image\n",
    "\n",
    "from matplotlib.dates import DateFormatter ## adjust labels on axes\n",
    "import cv2 ## for plotting erorr images at the bottm "
   ]
  },
  {
   "cell_type": "code",
   "execution_count": 2,
   "metadata": {},
   "outputs": [],
   "source": [
    "import math \n",
    "from sklearn.metrics import mean_absolute_error\n",
    "from sklearn.metrics import mean_absolute_percentage_error\n",
    "\n",
    "def error(y_actual,y_predicted):\n",
    "    ## metrics:\n",
    "    MSE = np.square(np.subtract(y_actual,y_predicted)).mean() \n",
    "    RMSE = math.sqrt(MSE)\n",
    "    print(\"Root Mean Square Error:\")\n",
    "    print(\"     \",RMSE, \"\\n\")\n",
    "\n",
    "    MAE = mean_absolute_error(y_actual, y_predicted)\n",
    "    print(\"Mean Absolute Error:\")\n",
    "    print(\"     \", MAE, \"\\n\")\n",
    "\n",
    "    MAPE = mean_absolute_percentage_error(y_actual, y_predicted) * 100\n",
    "    print(\"Mean Absolute Percent Error:\")\n",
    "    print(\"     \",MAPE, \"\\n\")\n",
    "\n",
    "    \n",
    "    DIFF = np.mean(y_actual - y_predicted)\n",
    "    print(\"Mean Difference:\")\n",
    "    print(\"     \",DIFF,\"+/-\", np.std(y_actual - y_predicted), \"\\n\")\n",
    "\n",
    "def R2(y_actual, y_predicted):\n",
    "    corr_matrix = np.corrcoef(y_actual, y_predicted)\n",
    "    corr = corr_matrix[0,1]\n",
    "    R_sq = corr**2\n",
    "    print(R_sq)\n",
    "\n",
    "\n",
    "def metrics(data):\n",
    "\n",
    "    y_actual = data['total_length_pixel_actual']\n",
    "    y_predicted = data['total_length_pixel']\n",
    "    print(\"PIXELS\")\n",
    "    error(y_actual, y_predicted)\n",
    "\n",
    "    y_actualcm = data['manual_snowdepth']\n",
    "    y_predictedcm = data['automated_depth']\n",
    "\n",
    "    print(\"CENTIMETERS\")\n",
    "    error(y_actualcm, y_predictedcm)\n",
    "\n",
    "    print(\"R2\")\n",
    "    R2(y_actualcm, y_predictedcm)"
   ]
  },
  {
   "cell_type": "code",
   "execution_count": 3,
   "metadata": {},
   "outputs": [
    {
     "name": "stdout",
     "output_type": "stream",
     "text": [
      "PIXELS\n",
      "Root Mean Square Error:\n",
      "      26.42561420729738 \n",
      "\n",
      "Mean Absolute Error:\n",
      "      21.866184049092055 \n",
      "\n",
      "Mean Absolute Percent Error:\n",
      "      42.94460307432786 \n",
      "\n",
      "Mean Difference:\n",
      "      -20.51522347273409 +/- 16.656490989902334 \n",
      "\n",
      "CENTIMETERS\n",
      "Root Mean Square Error:\n",
      "      37.20723452755368 \n",
      "\n",
      "Mean Absolute Error:\n",
      "      29.984991494449805 \n",
      "\n",
      "Mean Absolute Percent Error:\n",
      "      534.0804339495761 \n",
      "\n",
      "Mean Difference:\n",
      "      28.50573088324175 +/- 23.91237353339439 \n",
      "\n",
      "R2\n",
      "0.31026442897265105\n"
     ]
    }
   ],
   "source": [
    "results1 = pd.read_csv('/Users/catherinebreen/Dropbox/Chapter1/aurora_outputsJul26/snow_poles_outputs_resized_FT1p_LRe4_BS64_E100_clean_OKonly_CPU/co/results.csv')\n",
    "results_wa1 = pd.read_csv('/Users/catherinebreen/Dropbox/Chapter1/aurora_outputsJul26/snow_poles_outputs_resized_FT1p_LRe4_BS64_E100_clean_OKonly_CPU/wa_wo_trainingdata/results.csv')\n",
    "#metrics(results_wa1)\n",
    "metrics(results_wa1)"
   ]
  },
  {
   "cell_type": "code",
   "execution_count": 4,
   "metadata": {},
   "outputs": [
    {
     "name": "stdout",
     "output_type": "stream",
     "text": [
      "PIXELS\n",
      "Root Mean Square Error:\n",
      "      37.72391638837894 \n",
      "\n",
      "Mean Absolute Error:\n",
      "      34.47796949643767 \n",
      "\n",
      "Mean Absolute Percent Error:\n",
      "      30.43225641040505 \n",
      "\n",
      "Mean Difference:\n",
      "      33.28624232610067 +/- 17.751617939937464 \n",
      "\n",
      "CENTIMETERS\n",
      "Root Mean Square Error:\n",
      "      80.17600866716246 \n",
      "\n",
      "Mean Absolute Error:\n",
      "      72.48496750160128 \n",
      "\n",
      "Mean Absolute Percent Error:\n",
      "      3060.536072108874 \n",
      "\n",
      "Mean Difference:\n",
      "      -70.83348494947597 +/- 37.560747805511944 \n",
      "\n",
      "R2\n",
      "0.5236668655203652\n"
     ]
    }
   ],
   "source": [
    "results2 = pd.read_csv('/Users/catherinebreen/Documents/Chapter1/aurora_outputsJul26/snow_poles_outputs_resized_FT2p_LRe4_BS64_E100_clean_OKonly_CPU/co/results.csv')\n",
    "results_wa2 = pd.read_csv('/Users/catherinebreen/Documents/Chapter1/aurora_outputsJul26/snow_poles_outputs_resized_FT2p_LRe4_BS64_E100_clean_OKonly_CPU/wa_wo_trainingdata/results.csv')\n",
    "#metrics(results_wa2)\n",
    "metrics(results2)"
   ]
  },
  {
   "cell_type": "code",
   "execution_count": 7,
   "metadata": {},
   "outputs": [
    {
     "name": "stdout",
     "output_type": "stream",
     "text": [
      "PIXELS\n",
      "Root Mean Square Error:\n",
      "      38.42359617839771 \n",
      "\n",
      "Mean Absolute Error:\n",
      "      34.88330748107996 \n",
      "\n",
      "Mean Absolute Percent Error:\n",
      "      30.870942909855525 \n",
      "\n",
      "Mean Difference:\n",
      "      34.36668893103296 +/- 17.184395107137046 \n",
      "\n",
      "CENTIMETERS\n",
      "Root Mean Square Error:\n",
      "      80.73751129640145 \n",
      "\n",
      "Mean Absolute Error:\n",
      "      72.98049819849223 \n",
      "\n",
      "Mean Absolute Percent Error:\n",
      "      3088.2955347477955 \n",
      "\n",
      "Mean Difference:\n",
      "      -72.25792781739042 +/- 36.01857295720288 \n",
      "\n",
      "R2\n",
      "0.5958290299105914\n"
     ]
    }
   ],
   "source": [
    "results5 = pd.read_csv('/Users/catherinebreen/Documents/Chapter1/aurora_outputsJul26/snow_poles_outputs_resized_FT5p_LRe4_BS64_E100_clean_OKonly_CPU/co/results.csv')\n",
    "results_wa5 = pd.read_csv('/Users/catherinebreen/Documents/Chapter1/aurora_outputsJul26/snow_poles_outputs_resized_FT5p_LRe4_BS64_E100_clean_OKonly_CPU/wa_wo_trainingdata/results.csv')\n",
    "#metrics(results_wa5)\n",
    "metrics(results5)"
   ]
  },
  {
   "cell_type": "code",
   "execution_count": 8,
   "metadata": {},
   "outputs": [
    {
     "name": "stdout",
     "output_type": "stream",
     "text": [
      "PIXELS\n",
      "Root Mean Square Error:\n",
      "      37.065131111639666 \n",
      "\n",
      "Mean Absolute Error:\n",
      "      32.529824001512274 \n",
      "\n",
      "Mean Absolute Percent Error:\n",
      "      28.303003045693494 \n",
      "\n",
      "Mean Difference:\n",
      "      32.18810409553042 +/- 18.377973203221742 \n",
      "\n",
      "CENTIMETERS\n",
      "Root Mean Square Error:\n",
      "      76.50402236312824 \n",
      "\n",
      "Mean Absolute Error:\n",
      "      67.69106744816321 \n",
      "\n",
      "Mean Absolute Percent Error:\n",
      "      2804.153462353981 \n",
      "\n",
      "Mean Difference:\n",
      "      -67.19556043335956 +/- 36.573516316930075 \n",
      "\n",
      "R2\n",
      "0.6119377100050154\n"
     ]
    }
   ],
   "source": [
    "results10 = pd.read_csv('/Users/catherinebreen/Documents/Chapter1/aurora_outputsJul26/snow_poles_outputs_resized_FT10p_LRe4_BS64_E100_clean_OKonly_CPU/co/results.csv')\n",
    "results_wa10 = pd.read_csv('/Users/catherinebreen/Documents/Chapter1/aurora_outputsJul26/snow_poles_outputs_resized_FT10p_LRe4_BS64_E100_clean_OKonly_CPU/wa_wo_trainingdata/results.csv')\n",
    "#metrics(results_wa10)\n",
    "metrics(results10)"
   ]
  },
  {
   "cell_type": "code",
   "execution_count": 9,
   "metadata": {},
   "outputs": [
    {
     "ename": "NameError",
     "evalue": "name 'results15' is not defined",
     "output_type": "error",
     "traceback": [
      "\u001b[0;31m---------------------------------------------------------------------------\u001b[0m",
      "\u001b[0;31mNameError\u001b[0m                                 Traceback (most recent call last)",
      "Input \u001b[0;32mIn [9]\u001b[0m, in \u001b[0;36m<cell line: 4>\u001b[0;34m()\u001b[0m\n\u001b[1;32m      2\u001b[0m results_wa15 \u001b[38;5;241m=\u001b[39m pd\u001b[38;5;241m.\u001b[39mread_csv(\u001b[38;5;124m'\u001b[39m\u001b[38;5;124m/Users/catherinebreen/Documents/Chapter1/aurora_outputsJul26/snow_poles_outputs_resized_FT15p_LRe4_BS64_E100_clean_OKonly_CPU/wa_wo_trainingdata/results.csv\u001b[39m\u001b[38;5;124m'\u001b[39m)\n\u001b[1;32m      3\u001b[0m \u001b[38;5;66;03m#metrics(results_wa10)\u001b[39;00m\n\u001b[0;32m----> 4\u001b[0m metrics(\u001b[43mresults15\u001b[49m)\n",
      "\u001b[0;31mNameError\u001b[0m: name 'results15' is not defined"
     ]
    }
   ],
   "source": [
    "#results15 = pd.read_csv('/Users/catherinebreen/Documents/Chapter1/aurora_outputsJul26/snow_poles_outputs_resized_FT15p_LRe4_BS64_E100_clean_OKonly_CPU/co/results.csv')\n",
    "results_wa15 = pd.read_csv('/Users/catherinebreen/Documents/Chapter1/aurora_outputsJul26/snow_poles_outputs_resized_FT15p_LRe4_BS64_E100_clean_OKonly_CPU/wa_wo_trainingdata/results.csv')\n",
    "#metrics(results_wa10)\n",
    "metrics(results15)"
   ]
  },
  {
   "cell_type": "code",
   "execution_count": null,
   "metadata": {},
   "outputs": [
    {
     "name": "stdout",
     "output_type": "stream",
     "text": [
      "PIXELS\n",
      "Root Mean Square Error:\n",
      "      3.7612340422897628 \n",
      "\n",
      "Mean Absolute Error:\n",
      "      2.6705857914804625 \n",
      "\n",
      "Mean Absolute Percent Error:\n",
      "      4.9806739560684985 \n",
      "\n",
      "Mean Difference:\n",
      "      1.9943174614811576 +/- 3.1889777960516974 \n",
      "\n",
      "CENTIMETERS\n",
      "Root Mean Square Error:\n",
      "      4.940240095774637 \n",
      "\n",
      "Mean Absolute Error:\n",
      "      3.5444928438466987 \n",
      "\n",
      "Mean Absolute Percent Error:\n",
      "      136.62682003328612 \n",
      "\n",
      "Mean Difference:\n",
      "      -2.582137392915499 +/- 4.211714459457923 \n",
      "\n",
      "R2\n",
      "0.9780436282578796\n"
     ]
    }
   ],
   "source": [
    "results20 = pd.read_csv('/Users/catherinebreen/Documents/Chapter1/aurora_outputsJul26/snow_poles_outputs_resized_FT20p_LRe4_BS64_E100_clean_OKonly_CPU/co/results.csv')\n",
    "results_wa20 = pd.read_csv('/Users/catherinebreen/Documents/Chapter1/aurora_outputsJul26/snow_poles_outputs_resized_FT20p_LRe4_BS64_E100_clean_OKonly_CPU/wa_wo_trainingdata/results.csv')\n",
    "#metrics(results_wa20)\n",
    "metrics(results_wa20)"
   ]
  },
  {
   "cell_type": "code",
   "execution_count": null,
   "metadata": {},
   "outputs": [
    {
     "name": "stdout",
     "output_type": "stream",
     "text": [
      "PIXELS\n",
      "Root Mean Square Error:\n",
      "      2.946600048475977 \n",
      "\n",
      "Mean Absolute Error:\n",
      "      2.1408347925972464 \n",
      "\n",
      "Mean Absolute Percent Error:\n",
      "      3.6778817778493824 \n",
      "\n",
      "Mean Difference:\n",
      "      1.5062038214224744 +/- 2.5325484978596093 \n",
      "\n",
      "CENTIMETERS\n",
      "Root Mean Square Error:\n",
      "      3.878853712423989 \n",
      "\n",
      "Mean Absolute Error:\n",
      "      2.834600171472323 \n",
      "\n",
      "Mean Absolute Percent Error:\n",
      "      120.26895003394938 \n",
      "\n",
      "Mean Difference:\n",
      "      -2.011695407097696 +/- 3.316411873010859 \n",
      "\n",
      "R2\n",
      "0.9859727988083031\n"
     ]
    }
   ],
   "source": [
    "results25 = pd.read_csv('/Users/catherinebreen/Documents/Chapter1/aurora_outputsJul26/snow_poles_outputs_resized_FT25p_LRe4_BS64_E100_clean_OKonly_CPU/co/results.csv')\n",
    "results_wa25 = pd.read_csv('/Users/catherinebreen/Documents/Chapter1/aurora_outputsJul26/snow_poles_outputs_resized_FT25p_LRe4_BS64_E100_clean_OKonly_CPU/wa_wo_trainingdata/results.csv')\n",
    "#metrics(results_wa25)\n",
    "metrics(results_wa25)"
   ]
  },
  {
   "cell_type": "code",
   "execution_count": null,
   "metadata": {},
   "outputs": [
    {
     "name": "stdout",
     "output_type": "stream",
     "text": [
      "PIXELS\n",
      "Root Mean Square Error:\n",
      "      33.90618996996782 \n",
      "\n",
      "Mean Absolute Error:\n",
      "      29.17779501279195 \n",
      "\n",
      "Mean Absolute Percent Error:\n",
      "      25.119061331153 \n",
      "\n",
      "Mean Difference:\n",
      "      29.039046400941714 +/- 17.503242625396602 \n",
      "\n",
      "CENTIMETERS\n",
      "Root Mean Square Error:\n",
      "      69.53370383360085 \n",
      "\n",
      "Mean Absolute Error:\n",
      "      60.42614525576126 \n",
      "\n",
      "Mean Absolute Percent Error:\n",
      "      2680.02234975415 \n",
      "\n",
      "Mean Difference:\n",
      "      -60.15692921223546 +/- 34.87233626491078 \n",
      "\n",
      "R2\n",
      "0.6288324517947473\n"
     ]
    }
   ],
   "source": [
    "results30 = pd.read_csv('/Users/catherinebreen/Documents/Chapter1/aurora_outputsJul26/snow_poles_outputs_resized_FT30p_LRe4_BS64_E100_clean_OKonly_CPU/co/results.csv')\n",
    "results_wa30 = pd.read_csv('/Users/catherinebreen/Documents/Chapter1/aurora_outputsJul26/snow_poles_outputs_resized_FT30p_LRe4_BS64_E100_clean_OKonly_CPU/wa_wo_trainingdata/results.csv')\n",
    "metrics(results30)\n",
    "#metrics(results30)"
   ]
  },
  {
   "cell_type": "code",
   "execution_count": 10,
   "metadata": {},
   "outputs": [
    {
     "data": {
      "image/png": "[encoded data removed]",
      "text/plain": [
       "<Figure size 432x288 with 1 Axes>"
      ]
     },
     "metadata": {
      "needs_background": "light"
     },
     "output_type": "display_data"
    }
   ],
   "source": [
    "## Figure matplot of points required to fine tune \n",
    "import matplotlib.pyplot as plt\n",
    "from matplotlib.ticker import (MultipleLocator, AutoMinorLocator)\n",
    "## MAE instead? \n",
    "x = [0, 1, 2, 5, 10, 15, 20, 25, 30]\n",
    "y1 = [68.2, 29.0, 9.6, 7.1, 4.0, 3.9, 3.5, 2.8, 2.5]\n",
    "y2 = [2.2, 53.8, 80.2, 80.7, 76.5, 87.5, 76.8, 66.1, 69.5] \n",
    "extraticks = [1,2]\n",
    "\n",
    "fig, ax = plt.subplots()\n",
    "ax.plot(x,y1, label='Washington')\n",
    "#ax.legend()\n",
    "ax.set_xlabel('number of images per camera')\n",
    "ax.set_xticks(np.arange(0, 30.1, 30/6), minor=True)\n",
    "ax.xaxis.set_minor_locator(MultipleLocator(1))\n",
    "ax.yaxis.set_minor_locator(MultipleLocator(5))\n",
    "ax.set_ylabel('MAE (cm)')\n",
    "\n",
    "plt.savefig(\"/Users/catherinebreen/Documents/FINETUNE_MAE_WA.png\", format=\"png\", dpi=500)"
   ]
  },
  {
   "cell_type": "code",
   "execution_count": 78,
   "metadata": {},
   "outputs": [
    {
     "name": "stdout",
     "output_type": "stream",
     "text": [
      "PIXELS\n",
      "Root Mean Square Error:\n",
      "      4.778804719426605 \n",
      "\n",
      "Mean Absolute Error:\n",
      "      3.4512345557233144 \n",
      "\n",
      "Mean Absolute Percent Error:\n",
      "      5.896129361880311 \n",
      "\n",
      "Mean Difference:\n",
      "      1.4507120942750211 +/- 4.5532855133340995 \n",
      "\n",
      "CENTIMETERS\n",
      "Root Mean Square Error:\n",
      "      6.421620541805674 \n",
      "\n",
      "Mean Absolute Error:\n",
      "      4.621549429413876 \n",
      "\n",
      "Mean Absolute Percent Error:\n",
      "      243.94250412553328 \n",
      "\n",
      "Mean Difference:\n",
      "      -2.0750670065476804 +/- 6.077113402041948 \n",
      "\n",
      "R2\n",
      "0.9588552364686715\n"
     ]
    }
   ],
   "source": [
    "### washington only baseline :\n",
    "co_every10cpu = pd.read_csv('/Users/catherinebreen/Documents/Chapter1/aurora_outputsJul26/snow_poles_outputs_resized_WAonly10_LRe4_BS64_E10000_clean_OKonly_CPU_v1/co/results.csv') \n",
    "wa_every10cpu = pd.read_csv('/Users/catherinebreen/Documents/Chapter1/aurora_outputsJul26/snow_poles_outputs_resized_WAonly10_LRe4_BS64_E10000_clean_OKonly_CPU_v1/wa_wo_trainingdata/results.csv')\n",
    "metrics(wa_every10cpu)"
   ]
  },
  {
   "cell_type": "code",
   "execution_count": null,
   "metadata": {},
   "outputs": [],
   "source": []
  }
 ],
 "metadata": {
  "kernelspec": {
   "display_name": "Python 3",
   "language": "python",
   "name": "python3"
  },
  "language_info": {
   "codemirror_mode": {
    "name": "ipython",
    "version": 3
   },
   "file_extension": ".py",
   "mimetype": "text/x-python",
   "name": "python",
   "nbconvert_exporter": "python",
   "pygments_lexer": "ipython3",
   "version": "3.8.13"
  }
 },
 "nbformat": 4,
 "nbformat_minor": 2
}
