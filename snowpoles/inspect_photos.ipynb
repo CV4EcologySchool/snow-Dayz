{
 "cells": [
  {
   "cell_type": "code",
   "execution_count": 8,
   "metadata": {},
   "outputs": [],
   "source": [
    "import glob\n",
    "import pandas as pd \n",
    "#from PIL import Image\n",
    "import cv2\n",
    "import numpy as np\n",
    "import IPython\n",
    "from tqdm import tqdm\n",
    "import matplotlib.pyplot as plt"
   ]
  },
  {
   "cell_type": "code",
   "execution_count": 18,
   "metadata": {},
   "outputs": [],
   "source": [
    "# List of all the images\n",
    "images = glob.glob('/Users/catherinebreen/Documents/Chapter 1/WRRsubmission/data/448res/SNEX20_TLI_resized_clean/**/*') \n",
    "labels = pd.read_csv('/Users/catherinebreen/Documents/Chapter 1/WRRsubmission/data/448res/SNEX20_TLI_resized_clean/snowPoles_resized_labels_clean.csv') ##*** DOUBLE CHEKC****###\n"
   ]
  },
  {
   "cell_type": "code",
   "execution_count": 74,
   "metadata": {},
   "outputs": [
    {
     "name": "stderr",
     "output_type": "stream",
     "text": [
      "100%|██████████| 9721/9721 [02:09<00:00, 74.89it/s]\n"
     ]
    }
   ],
   "source": [
    "images_that_didnt_work =[]\n",
    "imagesthatworked = []\n",
    "top_row_img_cutoff = []\n",
    "bot_row_img_cutoff= []\n",
    "\n",
    "imgs = []\n",
    "\n",
    "for image in tqdm(images): \n",
    "    img_name = image.split('/')[-1] ## the last part of the filename\n",
    "    first_letter = img_name[0]\n",
    "    ## look up image in the csv:\n",
    "\n",
    "    top_x = float(labels.loc[labels['filename'] == img_name]['x1']) #x1\n",
    "    top_y = float(labels.loc[labels['filename'] == img_name]['y1']) #y1\n",
    "    bottom_x = float(labels.loc[labels['filename'] == img_name]['x2']) #x2\n",
    "    bottom_y = float(labels.loc[labels['filename'] == img_name]['y2']) #y2\n",
    "    imagesthatworked.append(img_name)\n",
    "    \n",
    "    ## create bounding boxes using the coordinates, although we will add a small buffer in the x direction only \n",
    "    top_left = [top_x - 2,top_y]\n",
    "    top_right = [top_x + 2, top_y]\n",
    "    bottom_left = [bottom_x + 2, bottom_y]\n",
    "    bottom_right = [bottom_x - 2, bottom_y]\n",
    "\n",
    "        # create empty image of the same dimensions as original image:\n",
    "    img = cv2.imread(image)\n",
    "    height, width, channels = img.shape\n",
    "    zeros = np.zeros((width,height)) ## check to make sure this looks right on actual images\n",
    "\n",
    "        #now set the bounding box within the empty image to 255 (can be converted to 1 later)\n",
    "        # Define an array of endpoints of triangle\n",
    "    points = np.array([top_left, top_right, bottom_left, bottom_right])\n",
    "    \n",
    "        # Use fillPoly() function and give input as\n",
    "        # image, end points,color of polygon\n",
    "        # Here color of polygon will blue\n",
    "    masked = cv2.fillPoly(zeros, pts=np.int32([points]), color=(255, 0, 0)) ##np.int32([points])\n",
    "\n",
    "        ## cropping based on camera type: \n",
    "    camDict = {'Reconyx':['C','T'],'Wingscape':['E','W']}\n",
    "    if first_letter in camDict['Reconyx']:\n",
    "        bottom_2 = round(height*(96/100)) ## 2%? 4 = 39\n",
    "        top_2 =  round(height*(4/100)) ## 2%\n",
    "        masked = masked[top_2:bottom_2,:] ## crop bottom 10% and top 10% (could make this 5%, and it would 24:424)\n",
    "        img = img[top_2:bottom_2,:] ## pictures going upside down\n",
    "        # plt.imshow(img)\n",
    "        # break\n",
    "\n",
    "    if first_letter in camDict['Wingscape']:\n",
    "        bottom_10 = round(height*(93/100)) ## 7% is perfect! \n",
    "        masked = masked[0:bottom_10,:] ## crop bottom 10% and top 10% (could make this 5%, and it would 24:424)\n",
    "        img = img[0:bottom_10,:] ## pictures going upside down\n",
    "\n",
    "    # imgs.append(img)\n",
    "    if np.sum(masked[0:1,:])>0: ## first row\n",
    "            #print('top row cutoff')\n",
    "        top_row_img_cutoff.append(img_name)\n",
    "    if np.sum(masked[-1,:])>0:  #429:430\n",
    "            #print('bottom row cutoff')\n",
    "        bot_row_img_cutoff.append(img_name)\n",
    "\n",
    "    cv2.imwrite(f'/Volumes/CatBreen/CV4ecology/segmented_images_resized_cropped/mask_{img_name}', masked) #, binary * 255)\n",
    "    #cv2.imwrite(f'/Volumes/CatBreen/CV4ecology/input_images_resized_cropped/{img_name}', img) #, binary * 255)"
   ]
  },
  {
   "cell_type": "code",
   "execution_count": 65,
   "metadata": {},
   "outputs": [
    {
     "data": {
      "text/plain": [
       "<matplotlib.image.AxesImage at 0x1755a3850>"
      ]
     },
     "execution_count": 65,
     "metadata": {},
     "output_type": "execute_result"
    },
    {
     "data": {
      "image/png": "[encoded data removed]",
      "text/plain": [
       "<Figure size 432x288 with 1 Axes>"
      ]
     },
     "metadata": {
      "needs_background": "light"
     },
     "output_type": "display_data"
    }
   ],
   "source": [
    "plt.imshow(img[-2:-1,:])"
   ]
  },
  {
   "cell_type": "code",
   "execution_count": 66,
   "metadata": {},
   "outputs": [
    {
     "data": {
      "text/plain": [
       "array([[[180, 191, 159],\n",
       "        [177, 188, 155],\n",
       "        [174, 185, 153],\n",
       "        ...,\n",
       "        [121, 132,  92],\n",
       "        [127, 132,  93],\n",
       "        [127, 130,  91]]], dtype=uint8)"
      ]
     },
     "execution_count": 66,
     "metadata": {},
     "output_type": "execute_result"
    }
   ],
   "source": [
    "img[-2:-1,:]"
   ]
  },
  {
   "cell_type": "code",
   "execution_count": 67,
   "metadata": {},
   "outputs": [
    {
     "name": "stdout",
     "output_type": "stream",
     "text": [
      "0\n",
      "0\n"
     ]
    }
   ],
   "source": [
    "print(len(top_row_img_cutoff))\n",
    "print(len(bot_row_img_cutoff))"
   ]
  },
  {
   "cell_type": "code",
   "execution_count": null,
   "metadata": {},
   "outputs": [],
   "source": []
  },
  {
   "cell_type": "code",
   "execution_count": 60,
   "metadata": {},
   "outputs": [
    {
     "data": {
      "text/plain": [
       "['CHE6_IMG_0006.JPG',\n",
       " 'CHE6_IMG_3293.JPG',\n",
       " 'CHE6_IMG_2863.JPG',\n",
       " 'CHE6_IMG_0126.JPG',\n",
       " 'CHE6_IMG_0533.JPG',\n",
       " 'CHE6_IMG_0408.JPG',\n",
       " 'CHE6_IMG_0222.JPG',\n",
       " 'CHE8_IMG_0127.JPG',\n",
       " 'CHE8_IMG_0126.JPG',\n",
       " 'CHE8_IMG_0124.JPG',\n",
       " 'CHE8_IMG_0125.JPG',\n",
       " 'CHE8_IMG_0008.JPG',\n",
       " 'CHE8_IMG_0006.JPG',\n",
       " 'CHE8_IMG_0007.JPG',\n",
       " 'CHE2_IMG_0019.JPG',\n",
       " 'CHE2_IMG_0018.JPG',\n",
       " 'CHE2_IMG_0020.JPG',\n",
       " 'CHE2_IMG_0021.JPG',\n",
       " 'CHE2_IMG_0023.JPG',\n",
       " 'CHE2_IMG_0022.JPG',\n",
       " 'CHE2_IMG_1824.JPG',\n",
       " 'CHE2_IMG_1822.JPG',\n",
       " 'CHE2_IMG_1823.JPG',\n",
       " 'CHE2_IMG_1821.JPG',\n",
       " 'CHE2_IMG_1820.JPG',\n",
       " 'CHE2_IMG_0016.JPG',\n",
       " 'CHE2_IMG_0017.JPG',\n",
       " 'CHE5_IMG_0595.JPG',\n",
       " 'CHE5_IMG_0435.JPG',\n",
       " 'CHE5_IMG_2394.JPG',\n",
       " 'CHE5_IMG_0643.JPG',\n",
       " 'CHE5_IMG_2903.JPG',\n",
       " 'CHE5_IMG_0283.JPG',\n",
       " 'CHE5_IMG_0067.JPG',\n",
       " 'CHE5_IMG_0507.JPG',\n",
       " 'CHE5_IMG_0211.JPG',\n",
       " 'CHE5_IMG_0363.JPG',\n",
       " 'CHE5_IMG_0002.JPG',\n",
       " 'CHE5_IMG_0163.JPG']"
      ]
     },
     "execution_count": 60,
     "metadata": {},
     "output_type": "execute_result"
    }
   ],
   "source": [
    "bot_row_img_cutoff"
   ]
  },
  {
   "cell_type": "code",
   "execution_count": null,
   "metadata": {},
   "outputs": [],
   "source": []
  }
 ],
 "metadata": {
  "kernelspec": {
   "display_name": "Python 3.8.13 ('cv4e')",
   "language": "python",
   "name": "python3"
  },
  "language_info": {
   "codemirror_mode": {
    "name": "ipython",
    "version": 3
   },
   "file_extension": ".py",
   "mimetype": "text/x-python",
   "name": "python",
   "nbconvert_exporter": "python",
   "pygments_lexer": "ipython3",
   "version": "3.8.13"
  },
  "orig_nbformat": 4,
  "vscode": {
   "interpreter": {
    "hash": "18c8a83839ab54cea1b05c10a00a7112ca56a675ec2461de8c8b43bf52970327"
   }
  }
 },
 "nbformat": 4,
 "nbformat_minor": 2
}
