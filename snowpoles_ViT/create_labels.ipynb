{
 "cells": [
  {
   "cell_type": "code",
   "execution_count": null,
   "id": "2d6353ac",
   "metadata": {},
   "outputs": [],
   "source": [
    "## snowex_images\n"
   ]
  },
  {
   "cell_type": "code",
   "execution_count": 1,
   "id": "f223a5b8",
   "metadata": {},
   "outputs": [],
   "source": [
    "## wa images"
   ]
  },
  {
   "cell_type": "code",
   "execution_count": null,
   "id": "a0d26317",
   "metadata": {},
   "outputs": [],
   "source": [
    "## cosgrove image"
   ]
  }
 ],
 "metadata": {
  "kernelspec": {
   "display_name": "sklearn-env",
   "language": "python",
   "name": "python3"
  },
  "language_info": {
   "codemirror_mode": {
    "name": "ipython",
    "version": 3
   },
   "file_extension": ".py",
   "mimetype": "text/x-python",
   "name": "python",
   "nbconvert_exporter": "python",
   "pygments_lexer": "ipython3",
   "version": "3.12.1"
  }
 },
 "nbformat": 4,
 "nbformat_minor": 5
}
