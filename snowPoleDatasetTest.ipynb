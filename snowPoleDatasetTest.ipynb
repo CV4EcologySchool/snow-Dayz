{
 "cells": [
  {
   "cell_type": "code",
   "execution_count": 1,
   "metadata": {},
   "outputs": [],
   "source": [
    "import pandas as pd\n",
    "import numpy as np"
   ]
  },
  {
   "cell_type": "code",
   "execution_count": 2,
   "metadata": {},
   "outputs": [
    {
     "name": "stdout",
     "output_type": "stream",
     "text": [
      "[[3698.5 1106.5]\n",
      " [3690.5 2882.5]]\n"
     ]
    }
   ],
   "source": [
    "data = pd.read_csv('/Volumes/CatBreen/CV4ecology/SNEX20_TLI/snowPoles_labels.csv')\n",
    "index = 10\n",
    "data.iloc[index]['filename'].split('_')[0]\n",
    "\n",
    "keypoints = data.iloc[5][1:][3:7]  ### change to x1 y1 x2 y2\n",
    "keypoints\n",
    "keypoints = np.array(keypoints, dtype='float32')\n",
    "# reshape the keypoints\n",
    "keypoints = keypoints.reshape(-1, 2)\n",
    "print(keypoints)"
   ]
  },
  {
   "cell_type": "code",
   "execution_count": null,
   "metadata": {},
   "outputs": [],
   "source": []
  },
  {
   "cell_type": "code",
   "execution_count": null,
   "metadata": {},
   "outputs": [],
   "source": [
    "from dataset import snowPoleDataset \n",
    "import os\n",
    "import argparse\n",
    "import yaml\n",
    "import glob\n",
    "from tqdm import trange\n",
    "import pandas as pd\n",
    "import config\n",
    "\n",
    "    # hard code config\n",
    "#cfg =    #yaml.safe_load(open('/home/azureuser/snow-Dayz/snowPoles/src/config.py'))\n",
    "\n"
   ]
  }
 ],
 "metadata": {
  "kernelspec": {
   "display_name": "Python 3.8.13 ('cv4e')",
   "language": "python",
   "name": "python3"
  },
  "language_info": {
   "codemirror_mode": {
    "name": "ipython",
    "version": 3
   },
   "file_extension": ".py",
   "mimetype": "text/x-python",
   "name": "python",
   "nbconvert_exporter": "python",
   "pygments_lexer": "ipython3",
   "version": "3.8.13"
  },
  "orig_nbformat": 4,
  "vscode": {
   "interpreter": {
    "hash": "18c8a83839ab54cea1b05c10a00a7112ca56a675ec2461de8c8b43bf52970327"
   }
  }
 },
 "nbformat": 4,
 "nbformat_minor": 2
}
